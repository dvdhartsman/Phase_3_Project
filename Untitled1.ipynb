{
 "cells": [
  {
   "cell_type": "code",
   "execution_count": 381,
   "metadata": {},
   "outputs": [],
   "source": [
    "import numpy as np\n",
    "import pandas as pd\n",
    "\n",
    "import statsmodels.api as sm\n",
    "\n",
    "from sklearn.linear_model import LogisticRegression\n",
    "from sklearn.dummy import DummyClassifier\n",
    "\n",
    "from sklearn.model_selection import train_test_split, cross_val_score, GridSearchCV\n",
    "from sklearn.preprocessing import StandardScaler, MinMaxScaler, OneHotEncoder, FunctionTransformer, PolynomialFeatures\n",
    "from sklearn.impute import SimpleImputer, MissingIndicator\n",
    "from sklearn.metrics import mean_squared_error, ConfusionMatrixDisplay, confusion_matrix, recall_score, \\\n",
    "    accuracy_score, precision_score, f1_score, plot_confusion_matrix, classification_report, roc_auc_score,\\\n",
    "    plot_roc_curve, plot_precision_recall_curve\n",
    "\n",
    "from sklearn.pipeline import Pipeline\n",
    "from sklearn.compose import ColumnTransformer, make_column_selector as selector\n",
    "from imblearn.over_sampling import SMOTE\n",
    "from imblearn.pipeline import Pipeline as ImPipeline\n",
    "\n",
    "from matplotlib import pyplot as plt\n",
    "import seaborn as sns\n",
    "\n",
    "from sklearn.ensemble import RandomForestClassifier, GradientBoostingClassifier\n",
    "from sklearn.tree import DecisionTreeClassifier\n",
    "\n",
    "pd.set_option('display.max_columns', None)"
   ]
  },
  {
   "cell_type": "code",
   "execution_count": 317,
   "metadata": {},
   "outputs": [],
   "source": [
    "df = pd.read_csv(\"./data/logistic_model_features.csv\")"
   ]
  },
  {
   "cell_type": "code",
   "execution_count": 318,
   "metadata": {},
   "outputs": [
    {
     "data": {
      "text/html": [
       "<div>\n",
       "<style scoped>\n",
       "    .dataframe tbody tr th:only-of-type {\n",
       "        vertical-align: middle;\n",
       "    }\n",
       "\n",
       "    .dataframe tbody tr th {\n",
       "        vertical-align: top;\n",
       "    }\n",
       "\n",
       "    .dataframe thead th {\n",
       "        text-align: right;\n",
       "    }\n",
       "</style>\n",
       "<table border=\"1\" class=\"dataframe\">\n",
       "  <thead>\n",
       "    <tr style=\"text-align: right;\">\n",
       "      <th></th>\n",
       "      <th>Unnamed: 0</th>\n",
       "      <th>id</th>\n",
       "      <th>amount_tsh</th>\n",
       "      <th>gps_height</th>\n",
       "      <th>longitude</th>\n",
       "      <th>latitude</th>\n",
       "      <th>population</th>\n",
       "      <th>construction_year</th>\n",
       "      <th>funder</th>\n",
       "      <th>installer</th>\n",
       "      <th>basin</th>\n",
       "      <th>region</th>\n",
       "      <th>region_code</th>\n",
       "      <th>district_code</th>\n",
       "      <th>lga</th>\n",
       "      <th>ward</th>\n",
       "      <th>scheme_management</th>\n",
       "      <th>scheme_name</th>\n",
       "      <th>permit</th>\n",
       "      <th>extraction_type</th>\n",
       "      <th>management</th>\n",
       "      <th>payment</th>\n",
       "      <th>water_quality</th>\n",
       "      <th>quantity</th>\n",
       "      <th>source</th>\n",
       "      <th>source_class</th>\n",
       "      <th>waterpoint_type</th>\n",
       "      <th>status_group</th>\n",
       "    </tr>\n",
       "  </thead>\n",
       "  <tbody>\n",
       "    <tr>\n",
       "      <th>0</th>\n",
       "      <td>0</td>\n",
       "      <td>69572</td>\n",
       "      <td>6000.0</td>\n",
       "      <td>1390</td>\n",
       "      <td>34.938093</td>\n",
       "      <td>-9.856322</td>\n",
       "      <td>109.0</td>\n",
       "      <td>1999.0</td>\n",
       "      <td>Roman</td>\n",
       "      <td>Roman</td>\n",
       "      <td>Lake Nyasa</td>\n",
       "      <td>Iringa</td>\n",
       "      <td>11</td>\n",
       "      <td>5</td>\n",
       "      <td>other</td>\n",
       "      <td>other</td>\n",
       "      <td>VWC</td>\n",
       "      <td>Roman</td>\n",
       "      <td>False</td>\n",
       "      <td>gravity</td>\n",
       "      <td>vwc</td>\n",
       "      <td>pay annually</td>\n",
       "      <td>soft</td>\n",
       "      <td>enough</td>\n",
       "      <td>spring</td>\n",
       "      <td>groundwater</td>\n",
       "      <td>communal standpipe</td>\n",
       "      <td>functional</td>\n",
       "    </tr>\n",
       "    <tr>\n",
       "      <th>1</th>\n",
       "      <td>1</td>\n",
       "      <td>8776</td>\n",
       "      <td>NaN</td>\n",
       "      <td>1399</td>\n",
       "      <td>34.698766</td>\n",
       "      <td>-2.147466</td>\n",
       "      <td>280.0</td>\n",
       "      <td>2010.0</td>\n",
       "      <td>other</td>\n",
       "      <td>other</td>\n",
       "      <td>dif_other</td>\n",
       "      <td>Mara</td>\n",
       "      <td>20</td>\n",
       "      <td>2</td>\n",
       "      <td>Serengeti</td>\n",
       "      <td>Natta</td>\n",
       "      <td>Other</td>\n",
       "      <td>NaN</td>\n",
       "      <td>True</td>\n",
       "      <td>gravity</td>\n",
       "      <td>wug</td>\n",
       "      <td>never pay</td>\n",
       "      <td>soft</td>\n",
       "      <td>insufficient</td>\n",
       "      <td>rainwater harvesting</td>\n",
       "      <td>surface</td>\n",
       "      <td>communal standpipe</td>\n",
       "      <td>functional</td>\n",
       "    </tr>\n",
       "  </tbody>\n",
       "</table>\n",
       "</div>"
      ],
      "text/plain": [
       "   Unnamed: 0     id  amount_tsh  gps_height  longitude  latitude  population  \\\n",
       "0           0  69572      6000.0        1390  34.938093 -9.856322       109.0   \n",
       "1           1   8776         NaN        1399  34.698766 -2.147466       280.0   \n",
       "\n",
       "   construction_year funder installer       basin  region  region_code  \\\n",
       "0             1999.0  Roman     Roman  Lake Nyasa  Iringa           11   \n",
       "1             2010.0  other     other   dif_other    Mara           20   \n",
       "\n",
       "   district_code        lga   ward scheme_management scheme_name permit  \\\n",
       "0              5      other  other               VWC       Roman  False   \n",
       "1              2  Serengeti  Natta             Other         NaN   True   \n",
       "\n",
       "  extraction_type management       payment water_quality      quantity  \\\n",
       "0         gravity        vwc  pay annually          soft        enough   \n",
       "1         gravity        wug     never pay          soft  insufficient   \n",
       "\n",
       "                 source source_class     waterpoint_type status_group  \n",
       "0                spring  groundwater  communal standpipe   functional  \n",
       "1  rainwater harvesting      surface  communal standpipe   functional  "
      ]
     },
     "execution_count": 318,
     "metadata": {},
     "output_type": "execute_result"
    }
   ],
   "source": [
    "df.head(2)"
   ]
  },
  {
   "cell_type": "markdown",
   "metadata": {},
   "source": [
    "Doing final preparation of data, flattening and converting "
   ]
  },
  {
   "cell_type": "code",
   "execution_count": 326,
   "metadata": {},
   "outputs": [],
   "source": [
    "df['permit'] = df['permit'].astype(str)\n",
    "df['region_code'] = df['region_code'].astype(str)\n",
    "df['district_code'] = df['district_code'].astype(str)"
   ]
  },
  {
   "cell_type": "code",
   "execution_count": 327,
   "metadata": {},
   "outputs": [],
   "source": [
    "# Re-filling zeros in amount_tsh\n",
    "\n",
    "df['amount_tsh'].fillna(0, inplace=True)"
   ]
  },
  {
   "cell_type": "code",
   "execution_count": 328,
   "metadata": {},
   "outputs": [],
   "source": [
    "ohe = OneHotEncoder(sparse=False)\n",
    "target = pd.DataFrame(ohe.fit_transform(df[['status_group']]), index=df.index, columns=[\n",
    "    'Functional', \"Needs_Repair\", \"Non-Functional\"])"
   ]
  },
  {
   "cell_type": "code",
   "execution_count": 329,
   "metadata": {},
   "outputs": [],
   "source": [
    "y_flat = np.argmax(np.array(target), axis=1)\n",
    "\n",
    "y_flat\n",
    "dbl_check = pd.Series(y_flat, name='Target')"
   ]
  },
  {
   "cell_type": "markdown",
   "metadata": {},
   "source": [
    "### After several model iterations, I am going to investigate the data a bit further, and perhaps clean some more columns."
   ]
  },
  {
   "cell_type": "code",
   "execution_count": 362,
   "metadata": {},
   "outputs": [],
   "source": [
    "original_features = pd.read_csv('./Data/4910797b-ee55-40a7-8668-10efd5c1b960.csv')"
   ]
  },
  {
   "cell_type": "code",
   "execution_count": 361,
   "metadata": {},
   "outputs": [
    {
     "data": {
      "text/plain": [
       "count    5.940000e+04\n",
       "mean    -5.706033e+00\n",
       "std      2.946019e+00\n",
       "min     -1.164944e+01\n",
       "25%     -8.540621e+00\n",
       "50%     -5.021597e+00\n",
       "75%     -3.326156e+00\n",
       "max     -2.000000e-08\n",
       "Name: latitude, dtype: float64"
      ]
     },
     "execution_count": 361,
     "metadata": {},
     "output_type": "execute_result"
    }
   ],
   "source": [
    "df['latitude'].describe()"
   ]
  },
  {
   "cell_type": "markdown",
   "metadata": {},
   "source": [
    "# Assigned values to X and y"
   ]
  },
  {
   "cell_type": "code",
   "execution_count": 330,
   "metadata": {},
   "outputs": [],
   "source": [
    "X = df.drop(['status_group', 'Unnamed: 0', 'id'], axis=1)\n",
    "y = dbl_check"
   ]
  },
  {
   "cell_type": "code",
   "execution_count": 363,
   "metadata": {},
   "outputs": [
    {
     "data": {
      "text/html": [
       "<div>\n",
       "<style scoped>\n",
       "    .dataframe tbody tr th:only-of-type {\n",
       "        vertical-align: middle;\n",
       "    }\n",
       "\n",
       "    .dataframe tbody tr th {\n",
       "        vertical-align: top;\n",
       "    }\n",
       "\n",
       "    .dataframe thead th {\n",
       "        text-align: right;\n",
       "    }\n",
       "</style>\n",
       "<table border=\"1\" class=\"dataframe\">\n",
       "  <thead>\n",
       "    <tr style=\"text-align: right;\">\n",
       "      <th></th>\n",
       "      <th>amount_tsh</th>\n",
       "      <th>gps_height</th>\n",
       "      <th>longitude</th>\n",
       "      <th>latitude</th>\n",
       "      <th>population</th>\n",
       "      <th>construction_year</th>\n",
       "    </tr>\n",
       "  </thead>\n",
       "  <tbody>\n",
       "    <tr>\n",
       "      <th>count</th>\n",
       "      <td>59400.000000</td>\n",
       "      <td>59400.000000</td>\n",
       "      <td>57588.000000</td>\n",
       "      <td>5.940000e+04</td>\n",
       "      <td>38019.000000</td>\n",
       "      <td>38691.000000</td>\n",
       "    </tr>\n",
       "    <tr>\n",
       "      <th>mean</th>\n",
       "      <td>317.650385</td>\n",
       "      <td>668.297239</td>\n",
       "      <td>35.149669</td>\n",
       "      <td>-5.706033e+00</td>\n",
       "      <td>281.087167</td>\n",
       "      <td>1996.814686</td>\n",
       "    </tr>\n",
       "    <tr>\n",
       "      <th>std</th>\n",
       "      <td>2997.574558</td>\n",
       "      <td>693.116350</td>\n",
       "      <td>2.607428</td>\n",
       "      <td>2.946019e+00</td>\n",
       "      <td>564.687660</td>\n",
       "      <td>12.472045</td>\n",
       "    </tr>\n",
       "    <tr>\n",
       "      <th>min</th>\n",
       "      <td>0.000000</td>\n",
       "      <td>-90.000000</td>\n",
       "      <td>29.607122</td>\n",
       "      <td>-1.164944e+01</td>\n",
       "      <td>1.000000</td>\n",
       "      <td>1960.000000</td>\n",
       "    </tr>\n",
       "    <tr>\n",
       "      <th>25%</th>\n",
       "      <td>0.000000</td>\n",
       "      <td>0.000000</td>\n",
       "      <td>33.285100</td>\n",
       "      <td>-8.540621e+00</td>\n",
       "      <td>40.000000</td>\n",
       "      <td>1987.000000</td>\n",
       "    </tr>\n",
       "    <tr>\n",
       "      <th>50%</th>\n",
       "      <td>0.000000</td>\n",
       "      <td>369.000000</td>\n",
       "      <td>35.005943</td>\n",
       "      <td>-5.021597e+00</td>\n",
       "      <td>150.000000</td>\n",
       "      <td>2000.000000</td>\n",
       "    </tr>\n",
       "    <tr>\n",
       "      <th>75%</th>\n",
       "      <td>20.000000</td>\n",
       "      <td>1319.250000</td>\n",
       "      <td>37.233712</td>\n",
       "      <td>-3.326156e+00</td>\n",
       "      <td>324.000000</td>\n",
       "      <td>2008.000000</td>\n",
       "    </tr>\n",
       "    <tr>\n",
       "      <th>max</th>\n",
       "      <td>350000.000000</td>\n",
       "      <td>2770.000000</td>\n",
       "      <td>40.345193</td>\n",
       "      <td>-2.000000e-08</td>\n",
       "      <td>30500.000000</td>\n",
       "      <td>2013.000000</td>\n",
       "    </tr>\n",
       "  </tbody>\n",
       "</table>\n",
       "</div>"
      ],
      "text/plain": [
       "          amount_tsh    gps_height     longitude      latitude    population  \\\n",
       "count   59400.000000  59400.000000  57588.000000  5.940000e+04  38019.000000   \n",
       "mean      317.650385    668.297239     35.149669 -5.706033e+00    281.087167   \n",
       "std      2997.574558    693.116350      2.607428  2.946019e+00    564.687660   \n",
       "min         0.000000    -90.000000     29.607122 -1.164944e+01      1.000000   \n",
       "25%         0.000000      0.000000     33.285100 -8.540621e+00     40.000000   \n",
       "50%         0.000000    369.000000     35.005943 -5.021597e+00    150.000000   \n",
       "75%        20.000000   1319.250000     37.233712 -3.326156e+00    324.000000   \n",
       "max    350000.000000   2770.000000     40.345193 -2.000000e-08  30500.000000   \n",
       "\n",
       "       construction_year  \n",
       "count       38691.000000  \n",
       "mean         1996.814686  \n",
       "std            12.472045  \n",
       "min          1960.000000  \n",
       "25%          1987.000000  \n",
       "50%          2000.000000  \n",
       "75%          2008.000000  \n",
       "max          2013.000000  "
      ]
     },
     "execution_count": 363,
     "metadata": {},
     "output_type": "execute_result"
    }
   ],
   "source": [
    "X.describe()"
   ]
  },
  {
   "cell_type": "code",
   "execution_count": 332,
   "metadata": {},
   "outputs": [],
   "source": [
    "X_train, X_test, y_train, y_test = train_test_split(X, y, random_state=42, stratify=y)"
   ]
  },
  {
   "cell_type": "markdown",
   "metadata": {},
   "source": [
    "# Class creation"
   ]
  },
  {
   "cell_type": "code",
   "execution_count": 234,
   "metadata": {},
   "outputs": [],
   "source": [
    "models = []"
   ]
  },
  {
   "cell_type": "code",
   "execution_count": 235,
   "metadata": {},
   "outputs": [],
   "source": [
    "class Model():\n",
    "    model_list = []\n",
    "    model_df = pd.DataFrame([[0, 0, 0]], columns=[\"Name\", \"train_score\", \"test_score\"])\n",
    "    \n",
    "    def __init__(self, name, model):\n",
    "        self.name = name\n",
    "        self.params = model.get_params\n",
    "        self.train_score = model.score(X_train, y_train)\n",
    "        self.test_score = model.score(X_test, y_test)\n",
    "    \n",
    "        Model.model_list.append(self)\n",
    "        attributes = np.array([self.name, self.train_score, self.test_score])\n",
    "        self.attributes = attributes\n",
    "        \n",
    "        self.attributes_df = pd.DataFrame([attributes], columns=['Name', 'train_score', 'test_score'])\n",
    "        Model.model_df = pd.concat([Model.model_df, self.attributes_df], axis=0)\n",
    "\n",
    "    @classmethod\n",
    "    def get_model_list(cls):\n",
    "        return cls.model_list"
   ]
  },
  {
   "cell_type": "markdown",
   "metadata": {},
   "source": [
    "# Functions"
   ]
  },
  {
   "cell_type": "code",
   "execution_count": 236,
   "metadata": {},
   "outputs": [],
   "source": [
    "def catalogue(model, X_train, X_test, y_train, y_test):\n",
    "    model = Model(model)\n",
    "    global models\n",
    "    return model"
   ]
  },
  {
   "cell_type": "code",
   "execution_count": 237,
   "metadata": {},
   "outputs": [],
   "source": [
    "def record(model, X_train, X_test, y_train, y_test):\n",
    "    stats = np.array(model.get_params, model.score(X_train, y_train), model.score(X_test, y_test))\n",
    "    df = pd.DataFrame(stats, columns=[\"parameters\", \"train_score\", 'test_score'])\n",
    "    return df"
   ]
  },
  {
   "cell_type": "markdown",
   "metadata": {},
   "source": [
    "# Pipeline construction"
   ]
  },
  {
   "cell_type": "code",
   "execution_count": 364,
   "metadata": {},
   "outputs": [
    {
     "name": "stdout",
     "output_type": "stream",
     "text": [
      "<class 'pandas.core.frame.DataFrame'>\n",
      "Int64Index: 44550 entries, 35240 to 49783\n",
      "Data columns (total 25 columns):\n",
      " #   Column             Non-Null Count  Dtype  \n",
      "---  ------             --------------  -----  \n",
      " 0   amount_tsh         44550 non-null  float64\n",
      " 1   gps_height         44550 non-null  int64  \n",
      " 2   longitude          43195 non-null  float64\n",
      " 3   latitude           44550 non-null  float64\n",
      " 4   population         28541 non-null  float64\n",
      " 5   construction_year  29050 non-null  float64\n",
      " 6   funder             41815 non-null  object \n",
      " 7   installer          41804 non-null  object \n",
      " 8   basin              44550 non-null  object \n",
      " 9   region             44550 non-null  object \n",
      " 10  region_code        44550 non-null  object \n",
      " 11  district_code      44550 non-null  object \n",
      " 12  lga                44550 non-null  object \n",
      " 13  ward               44550 non-null  object \n",
      " 14  scheme_management  41626 non-null  object \n",
      " 15  scheme_name        23413 non-null  object \n",
      " 16  permit             44550 non-null  object \n",
      " 17  extraction_type    44550 non-null  object \n",
      " 18  management         44550 non-null  object \n",
      " 19  payment            44550 non-null  object \n",
      " 20  water_quality      44550 non-null  object \n",
      " 21  quantity           44550 non-null  object \n",
      " 22  source             44550 non-null  object \n",
      " 23  source_class       44550 non-null  object \n",
      " 24  waterpoint_type    44550 non-null  object \n",
      "dtypes: float64(5), int64(1), object(19)\n",
      "memory usage: 8.8+ MB\n"
     ]
    }
   ],
   "source": [
    "X_train.info()"
   ]
  },
  {
   "cell_type": "code",
   "execution_count": 412,
   "metadata": {},
   "outputs": [],
   "source": [
    "subpipe_numerics = Pipeline(steps=[\n",
    "    ('mean_impute', SimpleImputer(add_indicator=True, strategy='mean')),\n",
    "    ('ss', StandardScaler()),\n",
    "    ('poly', PolynomialFeatures())\n",
    "])\n",
    "\n",
    "sub_pipe_cat = Pipeline(steps=[\n",
    "    \n",
    "    ('cat_impute', SimpleImputer(strategy='constant', fill_value=\"Missing\", add_indicator=True)),\n",
    "    ('ohe', OneHotEncoder(handle_unknown='ignore', sparse=True))  # sparse=False in failed version\n",
    "], verbose=True)  # verbose = False on failed version"
   ]
  },
  {
   "cell_type": "code",
   "execution_count": 413,
   "metadata": {},
   "outputs": [],
   "source": [
    "CT = ColumnTransformer(transformers=[\n",
    "    ('subpipe_numerics', subpipe_numerics, selector(dtype_include=np.number)),\n",
    "    ('subpipe_cat', sub_pipe_cat, selector(dtype_include=object))\n",
    "], remainder='passthrough', n_jobs= -1)"
   ]
  },
  {
   "cell_type": "code",
   "execution_count": 414,
   "metadata": {},
   "outputs": [],
   "source": [
    "poly_model2 = Pipeline(steps=[\n",
    "    ('CT', CT),\n",
    "    ('poly2', LogisticRegression(max_iter=200, n_jobs= -1, multi_class=\"multinomial\", \n",
    "    solver='newton-cg', fit_intercept=False, tol=.01, C=0.1))\n",
    "], verbose=True)"
   ]
  },
  {
   "cell_type": "markdown",
   "metadata": {},
   "source": [
    "### Reference for hyperparameters"
   ]
  },
  {
   "cell_type": "code",
   "execution_count": null,
   "metadata": {},
   "outputs": [],
   "source": [
    "('poly2',\n",
    "                 LogisticRegression(C=0.1, fit_intercept=False, max_iter=200,\n",
    "                                    multi_class='multinomial', n_jobs=-1,\n",
    "                                    solver='newton-cg', tol=0.01))],\n",
    "         verbose=True)"
   ]
  },
  {
   "cell_type": "markdown",
   "metadata": {},
   "source": [
    "### Optional Smoting"
   ]
  },
  {
   "cell_type": "code",
   "execution_count": 415,
   "metadata": {},
   "outputs": [],
   "source": [
    "poly_smote = ImPipeline(steps=[\n",
    "    ('ct', CT),\n",
    "    ('sm', SMOTE(random_state=42, sampling_strategy='auto')),\n",
    "    ('poly_smote', LogisticRegression(n_jobs= -1, C=0.1, max_iter=200, tol=.01, \n",
    "        multi_class=\"multinomial\", solver='newton-cg', fit_intercept=False))\n",
    "])"
   ]
  },
  {
   "cell_type": "markdown",
   "metadata": {},
   "source": [
    "# ACTUAL PIPELINE FITTING! "
   ]
  },
  {
   "cell_type": "code",
   "execution_count": 416,
   "metadata": {
    "scrolled": false
   },
   "outputs": [
    {
     "data": {
      "text/plain": [
       "Pipeline(steps=[('ct',\n",
       "                 ColumnTransformer(n_jobs=-1, remainder='passthrough',\n",
       "                                   transformers=[('subpipe_numerics',\n",
       "                                                  Pipeline(steps=[('mean_impute',\n",
       "                                                                   SimpleImputer(add_indicator=True)),\n",
       "                                                                  ('ss',\n",
       "                                                                   StandardScaler()),\n",
       "                                                                  ('poly',\n",
       "                                                                   PolynomialFeatures())]),\n",
       "                                                  <sklearn.compose._column_transformer.make_column_selector object at 0x7ff59af32dc0>),\n",
       "                                                 ('subpipe_cat',\n",
       "                                                  Pipeline(steps=[('cat_i...\n",
       "                                                                                 fill_value='Missing',\n",
       "                                                                                 strategy='constant')),\n",
       "                                                                  ('ohe',\n",
       "                                                                   OneHotEncoder(handle_unknown='ignore'))],\n",
       "                                                           verbose=True),\n",
       "                                                  <sklearn.compose._column_transformer.make_column_selector object at 0x7ff59bbb1c40>)])),\n",
       "                ('sm', SMOTE(random_state=42)),\n",
       "                ('poly_smote',\n",
       "                 LogisticRegression(C=0.1, fit_intercept=False, max_iter=200,\n",
       "                                    multi_class='multinomial', n_jobs=-1,\n",
       "                                    solver='newton-cg', tol=0.01))])"
      ]
     },
     "execution_count": 416,
     "metadata": {},
     "output_type": "execute_result"
    }
   ],
   "source": [
    "poly_smote.fit(X_train, y_train)"
   ]
  },
  {
   "cell_type": "code",
   "execution_count": null,
   "metadata": {},
   "outputs": [],
   "source": []
  },
  {
   "cell_type": "markdown",
   "metadata": {},
   "source": [
    "# Instantiation of models"
   ]
  },
  {
   "cell_type": "code",
   "execution_count": 417,
   "metadata": {},
   "outputs": [
    {
     "data": {
      "text/plain": [
       "(0.684040404040404, 0.677979797979798)"
      ]
     },
     "execution_count": 417,
     "metadata": {},
     "output_type": "execute_result"
    }
   ],
   "source": [
    "poly_smote.score(X_train, y_train), poly_smote.score(X_test, y_test)"
   ]
  },
  {
   "cell_type": "code",
   "execution_count": 308,
   "metadata": {},
   "outputs": [
    {
     "data": {
      "text/plain": [
       "(0.7699214365881033, 0.7699214365881033)"
      ]
     },
     "execution_count": 308,
     "metadata": {},
     "output_type": "execute_result"
    }
   ],
   "source": [
    "log_model1.train_score, log_model1.train_score\n",
    "# no real difference, so i will try some other shit"
   ]
  },
  {
   "cell_type": "code",
   "execution_count": 419,
   "metadata": {},
   "outputs": [],
   "source": [
    "poly_smote = Model(\"poly_smote\", poly_smote)"
   ]
  },
  {
   "cell_type": "code",
   "execution_count": 249,
   "metadata": {},
   "outputs": [
    {
     "data": {
      "text/plain": [
       "(0.6697418630751965, 0.665050505050505)"
      ]
     },
     "execution_count": 249,
     "metadata": {},
     "output_type": "execute_result"
    }
   ],
   "source": [
    "model_1.train_score, model_1.test_score"
   ]
  },
  {
   "cell_type": "code",
   "execution_count": 287,
   "metadata": {},
   "outputs": [],
   "source": [
    "log_model1 = Model(\"Baseline_log\", log_model)"
   ]
  },
  {
   "cell_type": "code",
   "execution_count": 420,
   "metadata": {},
   "outputs": [
    {
     "data": {
      "text/html": [
       "<div>\n",
       "<style scoped>\n",
       "    .dataframe tbody tr th:only-of-type {\n",
       "        vertical-align: middle;\n",
       "    }\n",
       "\n",
       "    .dataframe tbody tr th {\n",
       "        vertical-align: top;\n",
       "    }\n",
       "\n",
       "    .dataframe thead th {\n",
       "        text-align: right;\n",
       "    }\n",
       "</style>\n",
       "<table border=\"1\" class=\"dataframe\">\n",
       "  <thead>\n",
       "    <tr style=\"text-align: right;\">\n",
       "      <th></th>\n",
       "      <th>Name</th>\n",
       "      <th>train_score</th>\n",
       "      <th>test_score</th>\n",
       "    </tr>\n",
       "  </thead>\n",
       "  <tbody>\n",
       "    <tr>\n",
       "      <th>0</th>\n",
       "      <td>0</td>\n",
       "      <td>0</td>\n",
       "      <td>0</td>\n",
       "    </tr>\n",
       "    <tr>\n",
       "      <th>0</th>\n",
       "      <td>baseline</td>\n",
       "      <td>0.6697418630751965</td>\n",
       "      <td>0.665050505050505</td>\n",
       "    </tr>\n",
       "    <tr>\n",
       "      <th>0</th>\n",
       "      <td>Smote_grid1</td>\n",
       "      <td>0.6697418630751965</td>\n",
       "      <td>0.665050505050505</td>\n",
       "    </tr>\n",
       "    <tr>\n",
       "      <th>0</th>\n",
       "      <td>Baseline_log</td>\n",
       "      <td>0.7699214365881033</td>\n",
       "      <td>0.7650505050505051</td>\n",
       "    </tr>\n",
       "    <tr>\n",
       "      <th>0</th>\n",
       "      <td>Baseline_log</td>\n",
       "      <td>0.7699214365881033</td>\n",
       "      <td>0.7650505050505051</td>\n",
       "    </tr>\n",
       "    <tr>\n",
       "      <th>0</th>\n",
       "      <td>Baseline_log_grid</td>\n",
       "      <td>0.7668462401795735</td>\n",
       "      <td>0.7647811447811448</td>\n",
       "    </tr>\n",
       "    <tr>\n",
       "      <th>0</th>\n",
       "      <td>poly1</td>\n",
       "      <td>0.7724354657687991</td>\n",
       "      <td>0.7688215488215489</td>\n",
       "    </tr>\n",
       "    <tr>\n",
       "      <th>0</th>\n",
       "      <td>Poly_grid_1</td>\n",
       "      <td>0.7724354657687991</td>\n",
       "      <td>0.7688215488215489</td>\n",
       "    </tr>\n",
       "    <tr>\n",
       "      <th>0</th>\n",
       "      <td>poly2</td>\n",
       "      <td>0.7701683501683502</td>\n",
       "      <td>0.7661279461279461</td>\n",
       "    </tr>\n",
       "    <tr>\n",
       "      <th>0</th>\n",
       "      <td>Poly_grid_3</td>\n",
       "      <td>0.7724354657687991</td>\n",
       "      <td>0.7688215488215489</td>\n",
       "    </tr>\n",
       "    <tr>\n",
       "      <th>0</th>\n",
       "      <td>poly_smote</td>\n",
       "      <td>0.684040404040404</td>\n",
       "      <td>0.677979797979798</td>\n",
       "    </tr>\n",
       "  </tbody>\n",
       "</table>\n",
       "</div>"
      ],
      "text/plain": [
       "                Name         train_score          test_score\n",
       "0                  0                   0                   0\n",
       "0           baseline  0.6697418630751965   0.665050505050505\n",
       "0        Smote_grid1  0.6697418630751965   0.665050505050505\n",
       "0       Baseline_log  0.7699214365881033  0.7650505050505051\n",
       "0       Baseline_log  0.7699214365881033  0.7650505050505051\n",
       "0  Baseline_log_grid  0.7668462401795735  0.7647811447811448\n",
       "0              poly1  0.7724354657687991  0.7688215488215489\n",
       "0        Poly_grid_1  0.7724354657687991  0.7688215488215489\n",
       "0              poly2  0.7701683501683502  0.7661279461279461\n",
       "0        Poly_grid_3  0.7724354657687991  0.7688215488215489\n",
       "0         poly_smote   0.684040404040404   0.677979797979798"
      ]
     },
     "execution_count": 420,
     "metadata": {},
     "output_type": "execute_result"
    }
   ],
   "source": [
    "Model.model_df"
   ]
  },
  {
   "cell_type": "code",
   "execution_count": 390,
   "metadata": {},
   "outputs": [
    {
     "name": "stdout",
     "output_type": "stream",
     "text": [
      "memory\n",
      "steps\n",
      "verbose\n",
      "CT\n",
      "poly2\n",
      "CT__n_jobs\n",
      "CT__remainder\n",
      "CT__sparse_threshold\n",
      "CT__transformer_weights\n",
      "CT__transformers\n",
      "CT__verbose\n",
      "CT__subpipe_numerics\n",
      "CT__subpipe_cat\n",
      "CT__subpipe_numerics__memory\n",
      "CT__subpipe_numerics__steps\n",
      "CT__subpipe_numerics__verbose\n",
      "CT__subpipe_numerics__mean_impute\n",
      "CT__subpipe_numerics__ss\n",
      "CT__subpipe_numerics__poly\n",
      "CT__subpipe_numerics__mean_impute__add_indicator\n",
      "CT__subpipe_numerics__mean_impute__copy\n",
      "CT__subpipe_numerics__mean_impute__fill_value\n",
      "CT__subpipe_numerics__mean_impute__missing_values\n",
      "CT__subpipe_numerics__mean_impute__strategy\n",
      "CT__subpipe_numerics__mean_impute__verbose\n",
      "CT__subpipe_numerics__ss__copy\n",
      "CT__subpipe_numerics__ss__with_mean\n",
      "CT__subpipe_numerics__ss__with_std\n",
      "CT__subpipe_numerics__poly__degree\n",
      "CT__subpipe_numerics__poly__include_bias\n",
      "CT__subpipe_numerics__poly__interaction_only\n",
      "CT__subpipe_numerics__poly__order\n",
      "CT__subpipe_cat__memory\n",
      "CT__subpipe_cat__steps\n",
      "CT__subpipe_cat__verbose\n",
      "CT__subpipe_cat__cat_impute\n",
      "CT__subpipe_cat__ohe\n",
      "CT__subpipe_cat__cat_impute__add_indicator\n",
      "CT__subpipe_cat__cat_impute__copy\n",
      "CT__subpipe_cat__cat_impute__fill_value\n",
      "CT__subpipe_cat__cat_impute__missing_values\n",
      "CT__subpipe_cat__cat_impute__strategy\n",
      "CT__subpipe_cat__cat_impute__verbose\n",
      "CT__subpipe_cat__ohe__categories\n",
      "CT__subpipe_cat__ohe__drop\n",
      "CT__subpipe_cat__ohe__dtype\n",
      "CT__subpipe_cat__ohe__handle_unknown\n",
      "CT__subpipe_cat__ohe__sparse\n",
      "poly2__C\n",
      "poly2__class_weight\n",
      "poly2__dual\n",
      "poly2__fit_intercept\n",
      "poly2__intercept_scaling\n",
      "poly2__l1_ratio\n",
      "poly2__max_iter\n",
      "poly2__multi_class\n",
      "poly2__n_jobs\n",
      "poly2__penalty\n",
      "poly2__random_state\n",
      "poly2__solver\n",
      "poly2__tol\n",
      "poly2__verbose\n",
      "poly2__warm_start\n"
     ]
    }
   ],
   "source": [
    "for i in poly_model2.get_params().keys():\n",
    "    print(i)"
   ]
  },
  {
   "cell_type": "code",
   "execution_count": 397,
   "metadata": {},
   "outputs": [],
   "source": [
    "# poly_model2.get_params"
   ]
  },
  {
   "cell_type": "code",
   "execution_count": 398,
   "metadata": {},
   "outputs": [],
   "source": [
    "params = {\n",
    "    'poly2__solver' : ['saga', 'newton-cg'],  # 'newton-cholesky' not supported in logistic regression\n",
    "    'poly2__max_iter': [200, 250, 300, 400],\n",
    "    'poly2__C' : [0.01, .1, .001],\n",
    "    'poly2__tol' : [.01, .1, .001]\n",
    "}"
   ]
  },
  {
   "cell_type": "code",
   "execution_count": 399,
   "metadata": {},
   "outputs": [],
   "source": [
    "gs = GridSearchCV(\n",
    "    estimator= poly_model2,     # Subset pipeline\n",
    "    param_grid=params,\n",
    "    cv=5,\n",
    "    verbose=2,\n",
    "    n_jobs=-1)"
   ]
  },
  {
   "cell_type": "code",
   "execution_count": 400,
   "metadata": {
    "scrolled": true
   },
   "outputs": [
    {
     "name": "stdout",
     "output_type": "stream",
     "text": [
      "Fitting 5 folds for each of 72 candidates, totalling 360 fits\n"
     ]
    },
    {
     "name": "stderr",
     "output_type": "stream",
     "text": [
      "[Parallel(n_jobs=-1)]: Using backend LokyBackend with 8 concurrent workers.\n",
      "[Parallel(n_jobs=-1)]: Done  25 tasks      | elapsed:  7.7min\n",
      "[Parallel(n_jobs=-1)]: Done 146 tasks      | elapsed: 54.7min\n",
      "[Parallel(n_jobs=-1)]: Done 360 out of 360 | elapsed: 140.3min finished\n"
     ]
    },
    {
     "name": "stdout",
     "output_type": "stream",
     "text": [
      "[Pipeline] ................ (step 1 of 2) Processing CT, total=   1.2s\n",
      "[Pipeline] ............. (step 2 of 2) Processing poly2, total= 5.6min\n",
      "CPU times: user 35.7 s, sys: 2.66 s, total: 38.3 s\n",
      "Wall time: 2h 25min 58s\n"
     ]
    },
    {
     "data": {
      "text/plain": [
       "GridSearchCV(cv=5,\n",
       "             estimator=Pipeline(steps=[('CT',\n",
       "                                        ColumnTransformer(n_jobs=-1,\n",
       "                                                          remainder='passthrough',\n",
       "                                                          transformers=[('subpipe_numerics',\n",
       "                                                                         Pipeline(steps=[('mean_impute',\n",
       "                                                                                          SimpleImputer(add_indicator=True)),\n",
       "                                                                                         ('ss',\n",
       "                                                                                          StandardScaler()),\n",
       "                                                                                         ('poly',\n",
       "                                                                                          PolynomialFeatures(degree=3))]),\n",
       "                                                                         <sklearn.compose._column_transformer.make_column_selector object at 0x7ff59ae419d0>),\n",
       "                                                                        ('...\n",
       "                                                                         <sklearn.compose._column_transformer.make_column_selector object at 0x7ff59ae41190>)])),\n",
       "                                       ('poly2',\n",
       "                                        LogisticRegression(C=0.1,\n",
       "                                                           fit_intercept=False,\n",
       "                                                           max_iter=200,\n",
       "                                                           multi_class='multinomial',\n",
       "                                                           n_jobs=-1,\n",
       "                                                           solver='newton-cg',\n",
       "                                                           tol=1))],\n",
       "                                verbose=True),\n",
       "             n_jobs=-1,\n",
       "             param_grid={'poly2__C': [0.01, 0.1, 0.001],\n",
       "                         'poly2__max_iter': [200, 250, 300, 400],\n",
       "                         'poly2__solver': ['saga', 'newton-cg'],\n",
       "                         'poly2__tol': [0.01, 0.1, 0.001]},\n",
       "             verbose=2)"
      ]
     },
     "execution_count": 400,
     "metadata": {},
     "output_type": "execute_result"
    }
   ],
   "source": [
    "%%time\n",
    "gs.fit(X_train, y_train)"
   ]
  },
  {
   "cell_type": "code",
   "execution_count": 347,
   "metadata": {},
   "outputs": [
    {
     "data": {
      "text/plain": [
       "Pipeline(steps=[('CT',\n",
       "                 ColumnTransformer(remainder='passthrough',\n",
       "                                   transformers=[('subpipe_numerics',\n",
       "                                                  Pipeline(steps=[('mean_impute',\n",
       "                                                                   SimpleImputer(add_indicator=True)),\n",
       "                                                                  ('ss',\n",
       "                                                                   StandardScaler()),\n",
       "                                                                  ('poly',\n",
       "                                                                   PolynomialFeatures())]),\n",
       "                                                  <sklearn.compose._column_transformer.make_column_selector object at 0x7ff51d5826d0>),\n",
       "                                                 ('subpipe_cat',\n",
       "                                                  Pipeline(steps=[('cat_impute',\n",
       "                                                                   SimpleImputer(add_indicator=True,\n",
       "                                                                                 fill_value='Missing',\n",
       "                                                                                 strategy='constant')),\n",
       "                                                                  ('ohe',\n",
       "                                                                   OneHotEncoder(handle_unknown='ignore'))],\n",
       "                                                           verbose=True),\n",
       "                                                  <sklearn.compose._column_transformer.make_column_selector object at 0x7ff51d582130>)])),\n",
       "                ('log',\n",
       "                 LogisticRegression(C=1, fit_intercept=False, max_iter=200,\n",
       "                                    multi_class='multinomial', n_jobs=-1,\n",
       "                                    solver='newton-cg', tol=1))])"
      ]
     },
     "execution_count": 347,
     "metadata": {},
     "output_type": "execute_result"
    }
   ],
   "source": [
    "gs.best_estimator_"
   ]
  },
  {
   "cell_type": "code",
   "execution_count": 401,
   "metadata": {},
   "outputs": [
    {
     "data": {
      "text/plain": [
       "{'poly2__C': 0.1,\n",
       " 'poly2__max_iter': 200,\n",
       " 'poly2__solver': 'newton-cg',\n",
       " 'poly2__tol': 0.01}"
      ]
     },
     "execution_count": 401,
     "metadata": {},
     "output_type": "execute_result"
    }
   ],
   "source": [
    "gs.best_params_"
   ]
  },
  {
   "cell_type": "code",
   "execution_count": 402,
   "metadata": {},
   "outputs": [
    {
     "name": "stdout",
     "output_type": "stream",
     "text": [
      "[Pipeline] ................ (step 1 of 2) Processing CT, total=   2.4s\n",
      "[Pipeline] ............. (step 2 of 2) Processing poly2, total= 5.6min\n"
     ]
    },
    {
     "data": {
      "text/plain": [
       "Pipeline(steps=[('CT',\n",
       "                 ColumnTransformer(n_jobs=-1, remainder='passthrough',\n",
       "                                   transformers=[('subpipe_numerics',\n",
       "                                                  Pipeline(steps=[('mean_impute',\n",
       "                                                                   SimpleImputer(add_indicator=True)),\n",
       "                                                                  ('ss',\n",
       "                                                                   StandardScaler()),\n",
       "                                                                  ('poly',\n",
       "                                                                   PolynomialFeatures(degree=3))]),\n",
       "                                                  <sklearn.compose._column_transformer.make_column_selector object at 0x7ff59b497ca0>),\n",
       "                                                 ('subpipe_cat',\n",
       "                                                  Pipeline(steps=...\n",
       "                                                                   SimpleImputer(add_indicator=True,\n",
       "                                                                                 fill_value='Missing',\n",
       "                                                                                 strategy='constant')),\n",
       "                                                                  ('ohe',\n",
       "                                                                   OneHotEncoder(handle_unknown='ignore'))],\n",
       "                                                           verbose=True),\n",
       "                                                  <sklearn.compose._column_transformer.make_column_selector object at 0x7ff59f4de670>)])),\n",
       "                ('poly2',\n",
       "                 LogisticRegression(C=0.1, fit_intercept=False, max_iter=200,\n",
       "                                    multi_class='multinomial', n_jobs=-1,\n",
       "                                    solver='newton-cg', tol=0.01))],\n",
       "         verbose=True)"
      ]
     },
     "execution_count": 402,
     "metadata": {},
     "output_type": "execute_result"
    }
   ],
   "source": [
    "poly_3_grid = gs.best_estimator_\n",
    "poly_3_grid.fit(X_train, y_train)"
   ]
  },
  {
   "cell_type": "code",
   "execution_count": 404,
   "metadata": {},
   "outputs": [],
   "source": [
    "# poly_3_grid"
   ]
  },
  {
   "cell_type": "code",
   "execution_count": 405,
   "metadata": {},
   "outputs": [
    {
     "data": {
      "text/plain": [
       "(0.7701907968574635, 0.7661279461279461)"
      ]
     },
     "execution_count": 405,
     "metadata": {},
     "output_type": "execute_result"
    }
   ],
   "source": [
    "poly_3_grid.score(X_train, y_train), poly_3_grid.score(X_test, y_test)"
   ]
  },
  {
   "cell_type": "code",
   "execution_count": 406,
   "metadata": {},
   "outputs": [],
   "source": [
    "poly3_grid = Model(\"Poly_grid_3\", poly_grid)"
   ]
  },
  {
   "cell_type": "code",
   "execution_count": 407,
   "metadata": {},
   "outputs": [
    {
     "name": "stdout",
     "output_type": "stream",
     "text": [
      "              precision    recall  f1-score   support\n",
      "\n",
      "           0       0.75      0.89      0.82      8065\n",
      "           1       0.55      0.13      0.22      1079\n",
      "           2       0.80      0.70      0.75      5706\n",
      "\n",
      "    accuracy                           0.77     14850\n",
      "   macro avg       0.70      0.58      0.59     14850\n",
      "weighted avg       0.76      0.77      0.75     14850\n",
      "\n"
     ]
    }
   ],
   "source": [
    "print(classification_report(y_test, poly_3_grid.predict(X_test)))"
   ]
  },
  {
   "cell_type": "code",
   "execution_count": 408,
   "metadata": {},
   "outputs": [
    {
     "data": {
      "text/html": [
       "<div>\n",
       "<style scoped>\n",
       "    .dataframe tbody tr th:only-of-type {\n",
       "        vertical-align: middle;\n",
       "    }\n",
       "\n",
       "    .dataframe tbody tr th {\n",
       "        vertical-align: top;\n",
       "    }\n",
       "\n",
       "    .dataframe thead th {\n",
       "        text-align: right;\n",
       "    }\n",
       "</style>\n",
       "<table border=\"1\" class=\"dataframe\">\n",
       "  <thead>\n",
       "    <tr style=\"text-align: right;\">\n",
       "      <th></th>\n",
       "      <th>Name</th>\n",
       "      <th>train_score</th>\n",
       "      <th>test_score</th>\n",
       "    </tr>\n",
       "  </thead>\n",
       "  <tbody>\n",
       "    <tr>\n",
       "      <th>0</th>\n",
       "      <td>0</td>\n",
       "      <td>0</td>\n",
       "      <td>0</td>\n",
       "    </tr>\n",
       "    <tr>\n",
       "      <th>0</th>\n",
       "      <td>baseline</td>\n",
       "      <td>0.6697418630751965</td>\n",
       "      <td>0.665050505050505</td>\n",
       "    </tr>\n",
       "    <tr>\n",
       "      <th>0</th>\n",
       "      <td>Smote_grid1</td>\n",
       "      <td>0.6697418630751965</td>\n",
       "      <td>0.665050505050505</td>\n",
       "    </tr>\n",
       "    <tr>\n",
       "      <th>0</th>\n",
       "      <td>Baseline_log</td>\n",
       "      <td>0.7699214365881033</td>\n",
       "      <td>0.7650505050505051</td>\n",
       "    </tr>\n",
       "    <tr>\n",
       "      <th>0</th>\n",
       "      <td>Baseline_log</td>\n",
       "      <td>0.7699214365881033</td>\n",
       "      <td>0.7650505050505051</td>\n",
       "    </tr>\n",
       "    <tr>\n",
       "      <th>0</th>\n",
       "      <td>Baseline_log_grid</td>\n",
       "      <td>0.7668462401795735</td>\n",
       "      <td>0.7647811447811448</td>\n",
       "    </tr>\n",
       "    <tr>\n",
       "      <th>0</th>\n",
       "      <td>poly1</td>\n",
       "      <td>0.7724354657687991</td>\n",
       "      <td>0.7688215488215489</td>\n",
       "    </tr>\n",
       "    <tr>\n",
       "      <th>0</th>\n",
       "      <td>Poly_grid_1</td>\n",
       "      <td>0.7724354657687991</td>\n",
       "      <td>0.7688215488215489</td>\n",
       "    </tr>\n",
       "    <tr>\n",
       "      <th>0</th>\n",
       "      <td>poly2</td>\n",
       "      <td>0.7701683501683502</td>\n",
       "      <td>0.7661279461279461</td>\n",
       "    </tr>\n",
       "    <tr>\n",
       "      <th>0</th>\n",
       "      <td>Poly_grid_3</td>\n",
       "      <td>0.7724354657687991</td>\n",
       "      <td>0.7688215488215489</td>\n",
       "    </tr>\n",
       "  </tbody>\n",
       "</table>\n",
       "</div>"
      ],
      "text/plain": [
       "                Name         train_score          test_score\n",
       "0                  0                   0                   0\n",
       "0           baseline  0.6697418630751965   0.665050505050505\n",
       "0        Smote_grid1  0.6697418630751965   0.665050505050505\n",
       "0       Baseline_log  0.7699214365881033  0.7650505050505051\n",
       "0       Baseline_log  0.7699214365881033  0.7650505050505051\n",
       "0  Baseline_log_grid  0.7668462401795735  0.7647811447811448\n",
       "0              poly1  0.7724354657687991  0.7688215488215489\n",
       "0        Poly_grid_1  0.7724354657687991  0.7688215488215489\n",
       "0              poly2  0.7701683501683502  0.7661279461279461\n",
       "0        Poly_grid_3  0.7724354657687991  0.7688215488215489"
      ]
     },
     "execution_count": 408,
     "metadata": {},
     "output_type": "execute_result"
    }
   ],
   "source": [
    "Model.model_df"
   ]
  },
  {
   "cell_type": "code",
   "execution_count": 421,
   "metadata": {},
   "outputs": [
    {
     "name": "stdout",
     "output_type": "stream",
     "text": [
      "baseline\n",
      "Smote_grid1\n",
      "Baseline_log\n",
      "Baseline_log\n",
      "Baseline_log_grid\n",
      "poly1\n",
      "Poly_grid_1\n",
      "poly2\n",
      "Poly_grid_3\n",
      "poly_smote\n"
     ]
    }
   ],
   "source": [
    "for i in Model.model_list:\n",
    "    print(i.name)"
   ]
  },
  {
   "cell_type": "markdown",
   "metadata": {},
   "source": [
    "# Observations:\n",
    "- Changing sampling strategy to \"auto\" made no difference in SMOTE hyperparameters.\n",
    "- Baseline log grid slightly worse than the uncalibrated logistic regression\n",
    "- For polynomial features, the grid search did not improve the default settings at all, still not overfit\n",
    "- After a 2 hour grid search, the best model only equals the best score thus far, still without overfitting, but without any improvement either.\n",
    "- Polynomial degree 2 + smote improved upon the baseline smote, but still performed worse than other models\n",
    "# I will revisit the model features in the morning"
   ]
  },
  {
   "cell_type": "code",
   "execution_count": null,
   "metadata": {},
   "outputs": [],
   "source": [
    "\n",
    "\n",
    "class ModelsList():\n",
    "    def init(self, x,y):\n",
    "        xtrain, xtest, ytrain, ytest = train_test_split(x,y)\n",
    "        self.xtrain = xtrain\n",
    "        self.xtest = xtest\n",
    "        self.ytrain = ytrain\n",
    "        self.ytest = ytest\n",
    "        self.df = pd.DataFrame({'Model' : pd.Series(dtype='str'), \n",
    "                    'train_score' : pd.Series(dtype='float64'), \n",
    "                    'test_score': pd.Series(dtype='float64'),\n",
    "                    'params': pd.Series(dtype='O')})\n",
    "\n",
    "    def update(self, estimator, name, fit = True, params = None):\n",
    "        if fit:\n",
    "            estimator.fit(self.xtrain, self.ytrain)\n",
    "\n",
    "        trainscore = estimator.score(self.xtrain, self.ytrain)\n",
    "        testscore = estimator.score(self.xtest, self.ytest)\n",
    "        model_to_add = [name, trainscore, testscore, params]\n",
    "        self.df.loc[len(self.df.index)] = model_to_add"
   ]
  },
  {
   "cell_type": "code",
   "execution_count": null,
   "metadata": {},
   "outputs": [],
   "source": [
    "'amount_tsh', 'gps_height', 'longitude', 'latitude', 'population',\n",
    "       'construction_year', 'funder', 'installer', 'basin', 'region',\n",
    "       'region_code', 'district_code', 'lga', 'ward', 'scheme_management',\n",
    "       'scheme_name', 'permit', 'extraction_type', 'management', 'payment',\n",
    "       'water_quality', 'quantity', 'source', 'source_class',\n",
    "       'waterpoint_type'],\n",
    "these are my features atm\n",
    "i think that the hard part is really done though tbh, i just want to write this function to keep track of modeling, and then have a slightly tighter modeling notebook for less scrolling\n",
    "octo — Today at 12:43 PM\n",
    "oh interesting\n",
    "['amount_tsh', 'date_recorded', 'funder', 'installer', 'basin',\n",
    "       'subvillage', 'region', 'lga', 'ward', 'population', 'public_meeting',\n",
    "       'recorded_by', 'scheme_management', 'permit', 'construction_year',\n",
    "       'extraction_type', 'payment', 'water_quality', 'quantity', 'source',\n",
    "       'source_class', 'waterpoint_type', 'waterpoint_type_group',\n",
    "       'days_since_recorded', 'status_group']"
   ]
  }
 ],
 "metadata": {
  "kernelspec": {
   "display_name": "Python (learn-env)",
   "language": "python",
   "name": "learn-env"
  },
  "language_info": {
   "codemirror_mode": {
    "name": "ipython",
    "version": 3
   },
   "file_extension": ".py",
   "mimetype": "text/x-python",
   "name": "python",
   "nbconvert_exporter": "python",
   "pygments_lexer": "ipython3",
   "version": "3.8.5"
  }
 },
 "nbformat": 4,
 "nbformat_minor": 4
}
