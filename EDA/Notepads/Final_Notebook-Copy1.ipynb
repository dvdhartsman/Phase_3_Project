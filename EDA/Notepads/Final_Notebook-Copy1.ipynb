{
 "cells": [
  {
   "cell_type": "markdown",
   "metadata": {},
   "source": [
    "# Tanzanian Water Pipe Predictions"
   ]
  },
  {
   "cell_type": "markdown",
   "metadata": {},
   "source": [
    "# Overview"
   ]
  },
  {
   "cell_type": "markdown",
   "metadata": {},
   "source": [
    "In this project, I was challenged to develop predictive models capable of determining the status of water pumps in Tanzania. There were three distinct classes that I needed to predict: functional, functional-needs-repair, and \n",
    "non-functional. By using an iterative process of adjusting features, sampling techniques, and hyper-parameters, I endeavored to find the most accurate predictive model."
   ]
  },
  {
   "cell_type": "markdown",
   "metadata": {},
   "source": [
    "# Data Understanding"
   ]
  },
  {
   "cell_type": "markdown",
   "metadata": {},
   "source": [
    "I gained access to data from the Tanzanian Ministry of Water and a business named Taarifa. The data contained 59400 rows of data with 40 feature columns and 1 target column. There were both numeric and categorical columns in the data, and some of the apparently numeric columns also represented categorical information. Furthermore, several of the columns contained redundant information from other columns. In those cases, I choose the columns with more granular data that contained more useable details for my models to utilize in their construction. There were also several columns that required binning of values because the number of unique items within the column were voluminous, and would both provide superfluous specificity and also cost computational power. After I selected the feature columns I found to be most relevant for model construction, I began record data from baseline models. I also built iterative sklearn pipelines that allowed for quick and easy modification of my models' hyperparameters. "
   ]
  },
  {
   "cell_type": "code",
   "execution_count": 33,
   "metadata": {},
   "outputs": [],
   "source": [
    "import numpy as np\n",
    "import pandas as pd\n",
    "\n",
    "import statsmodels.api as sm\n",
    "\n",
    "from sklearn.linear_model import LogisticRegression\n",
    "from sklearn.dummy import DummyClassifier\n",
    "\n",
    "from sklearn.model_selection import train_test_split, cross_val_score, GridSearchCV\n",
    "from sklearn.preprocessing import StandardScaler, MinMaxScaler, OneHotEncoder, FunctionTransformer, PolynomialFeatures\n",
    "from sklearn.impute import SimpleImputer, MissingIndicator\n",
    "from sklearn.metrics import mean_squared_error, ConfusionMatrixDisplay, confusion_matrix, recall_score, \\\n",
    "    accuracy_score, precision_score, f1_score, plot_confusion_matrix, classification_report\n",
    "\n",
    "from sklearn.pipeline import Pipeline\n",
    "from sklearn.compose import ColumnTransformer, make_column_selector as selector\n",
    "from imblearn.over_sampling import SMOTE\n",
    "from imblearn.pipeline import Pipeline as ImPipeline\n",
    "\n",
    "from matplotlib import pyplot as plt\n",
    "import seaborn as sns\n",
    "\n",
    "from sklearn.ensemble import RandomForestClassifier, GradientBoostingClassifier\n",
    "from sklearn.tree import DecisionTreeClassifier\n",
    "pd.set_option('display.max_columns', None)"
   ]
  },
  {
   "cell_type": "markdown",
   "metadata": {},
   "source": [
    "Here is a brief look at the original feature data set. As you scroll from left to right, you can see that some columns are extraneous, some overlap but differ, and some are completely redundant. "
   ]
  },
  {
   "cell_type": "code",
   "execution_count": 5,
   "metadata": {},
   "outputs": [
    {
     "name": "stdout",
     "output_type": "stream",
     "text": [
      "(59400, 40)\n"
     ]
    },
    {
     "data": {
      "text/html": [
       "<div>\n",
       "<style scoped>\n",
       "    .dataframe tbody tr th:only-of-type {\n",
       "        vertical-align: middle;\n",
       "    }\n",
       "\n",
       "    .dataframe tbody tr th {\n",
       "        vertical-align: top;\n",
       "    }\n",
       "\n",
       "    .dataframe thead th {\n",
       "        text-align: right;\n",
       "    }\n",
       "</style>\n",
       "<table border=\"1\" class=\"dataframe\">\n",
       "  <thead>\n",
       "    <tr style=\"text-align: right;\">\n",
       "      <th></th>\n",
       "      <th>id</th>\n",
       "      <th>amount_tsh</th>\n",
       "      <th>date_recorded</th>\n",
       "      <th>funder</th>\n",
       "      <th>gps_height</th>\n",
       "      <th>installer</th>\n",
       "      <th>longitude</th>\n",
       "      <th>latitude</th>\n",
       "      <th>wpt_name</th>\n",
       "      <th>num_private</th>\n",
       "      <th>basin</th>\n",
       "      <th>subvillage</th>\n",
       "      <th>region</th>\n",
       "      <th>region_code</th>\n",
       "      <th>district_code</th>\n",
       "      <th>lga</th>\n",
       "      <th>ward</th>\n",
       "      <th>population</th>\n",
       "      <th>public_meeting</th>\n",
       "      <th>recorded_by</th>\n",
       "      <th>scheme_management</th>\n",
       "      <th>scheme_name</th>\n",
       "      <th>permit</th>\n",
       "      <th>construction_year</th>\n",
       "      <th>extraction_type</th>\n",
       "      <th>extraction_type_group</th>\n",
       "      <th>extraction_type_class</th>\n",
       "      <th>management</th>\n",
       "      <th>management_group</th>\n",
       "      <th>payment</th>\n",
       "      <th>payment_type</th>\n",
       "      <th>water_quality</th>\n",
       "      <th>quality_group</th>\n",
       "      <th>quantity</th>\n",
       "      <th>quantity_group</th>\n",
       "      <th>source</th>\n",
       "      <th>source_type</th>\n",
       "      <th>source_class</th>\n",
       "      <th>waterpoint_type</th>\n",
       "      <th>waterpoint_type_group</th>\n",
       "    </tr>\n",
       "  </thead>\n",
       "  <tbody>\n",
       "    <tr>\n",
       "      <th>0</th>\n",
       "      <td>69572</td>\n",
       "      <td>6000.0</td>\n",
       "      <td>2011-03-14</td>\n",
       "      <td>Roman</td>\n",
       "      <td>1390</td>\n",
       "      <td>Roman</td>\n",
       "      <td>34.938093</td>\n",
       "      <td>-9.856322</td>\n",
       "      <td>none</td>\n",
       "      <td>0</td>\n",
       "      <td>Lake Nyasa</td>\n",
       "      <td>Mnyusi B</td>\n",
       "      <td>Iringa</td>\n",
       "      <td>11</td>\n",
       "      <td>5</td>\n",
       "      <td>Ludewa</td>\n",
       "      <td>Mundindi</td>\n",
       "      <td>109</td>\n",
       "      <td>True</td>\n",
       "      <td>GeoData Consultants Ltd</td>\n",
       "      <td>VWC</td>\n",
       "      <td>Roman</td>\n",
       "      <td>False</td>\n",
       "      <td>1999</td>\n",
       "      <td>gravity</td>\n",
       "      <td>gravity</td>\n",
       "      <td>gravity</td>\n",
       "      <td>vwc</td>\n",
       "      <td>user-group</td>\n",
       "      <td>pay annually</td>\n",
       "      <td>annually</td>\n",
       "      <td>soft</td>\n",
       "      <td>good</td>\n",
       "      <td>enough</td>\n",
       "      <td>enough</td>\n",
       "      <td>spring</td>\n",
       "      <td>spring</td>\n",
       "      <td>groundwater</td>\n",
       "      <td>communal standpipe</td>\n",
       "      <td>communal standpipe</td>\n",
       "    </tr>\n",
       "    <tr>\n",
       "      <th>1</th>\n",
       "      <td>8776</td>\n",
       "      <td>0.0</td>\n",
       "      <td>2013-03-06</td>\n",
       "      <td>Grumeti</td>\n",
       "      <td>1399</td>\n",
       "      <td>GRUMETI</td>\n",
       "      <td>34.698766</td>\n",
       "      <td>-2.147466</td>\n",
       "      <td>Zahanati</td>\n",
       "      <td>0</td>\n",
       "      <td>Lake Victoria</td>\n",
       "      <td>Nyamara</td>\n",
       "      <td>Mara</td>\n",
       "      <td>20</td>\n",
       "      <td>2</td>\n",
       "      <td>Serengeti</td>\n",
       "      <td>Natta</td>\n",
       "      <td>280</td>\n",
       "      <td>NaN</td>\n",
       "      <td>GeoData Consultants Ltd</td>\n",
       "      <td>Other</td>\n",
       "      <td>NaN</td>\n",
       "      <td>True</td>\n",
       "      <td>2010</td>\n",
       "      <td>gravity</td>\n",
       "      <td>gravity</td>\n",
       "      <td>gravity</td>\n",
       "      <td>wug</td>\n",
       "      <td>user-group</td>\n",
       "      <td>never pay</td>\n",
       "      <td>never pay</td>\n",
       "      <td>soft</td>\n",
       "      <td>good</td>\n",
       "      <td>insufficient</td>\n",
       "      <td>insufficient</td>\n",
       "      <td>rainwater harvesting</td>\n",
       "      <td>rainwater harvesting</td>\n",
       "      <td>surface</td>\n",
       "      <td>communal standpipe</td>\n",
       "      <td>communal standpipe</td>\n",
       "    </tr>\n",
       "    <tr>\n",
       "      <th>2</th>\n",
       "      <td>34310</td>\n",
       "      <td>25.0</td>\n",
       "      <td>2013-02-25</td>\n",
       "      <td>Lottery Club</td>\n",
       "      <td>686</td>\n",
       "      <td>World vision</td>\n",
       "      <td>37.460664</td>\n",
       "      <td>-3.821329</td>\n",
       "      <td>Kwa Mahundi</td>\n",
       "      <td>0</td>\n",
       "      <td>Pangani</td>\n",
       "      <td>Majengo</td>\n",
       "      <td>Manyara</td>\n",
       "      <td>21</td>\n",
       "      <td>4</td>\n",
       "      <td>Simanjiro</td>\n",
       "      <td>Ngorika</td>\n",
       "      <td>250</td>\n",
       "      <td>True</td>\n",
       "      <td>GeoData Consultants Ltd</td>\n",
       "      <td>VWC</td>\n",
       "      <td>Nyumba ya mungu pipe scheme</td>\n",
       "      <td>True</td>\n",
       "      <td>2009</td>\n",
       "      <td>gravity</td>\n",
       "      <td>gravity</td>\n",
       "      <td>gravity</td>\n",
       "      <td>vwc</td>\n",
       "      <td>user-group</td>\n",
       "      <td>pay per bucket</td>\n",
       "      <td>per bucket</td>\n",
       "      <td>soft</td>\n",
       "      <td>good</td>\n",
       "      <td>enough</td>\n",
       "      <td>enough</td>\n",
       "      <td>dam</td>\n",
       "      <td>dam</td>\n",
       "      <td>surface</td>\n",
       "      <td>communal standpipe multiple</td>\n",
       "      <td>communal standpipe</td>\n",
       "    </tr>\n",
       "    <tr>\n",
       "      <th>3</th>\n",
       "      <td>67743</td>\n",
       "      <td>0.0</td>\n",
       "      <td>2013-01-28</td>\n",
       "      <td>Unicef</td>\n",
       "      <td>263</td>\n",
       "      <td>UNICEF</td>\n",
       "      <td>38.486161</td>\n",
       "      <td>-11.155298</td>\n",
       "      <td>Zahanati Ya Nanyumbu</td>\n",
       "      <td>0</td>\n",
       "      <td>Ruvuma / Southern Coast</td>\n",
       "      <td>Mahakamani</td>\n",
       "      <td>Mtwara</td>\n",
       "      <td>90</td>\n",
       "      <td>63</td>\n",
       "      <td>Nanyumbu</td>\n",
       "      <td>Nanyumbu</td>\n",
       "      <td>58</td>\n",
       "      <td>True</td>\n",
       "      <td>GeoData Consultants Ltd</td>\n",
       "      <td>VWC</td>\n",
       "      <td>NaN</td>\n",
       "      <td>True</td>\n",
       "      <td>1986</td>\n",
       "      <td>submersible</td>\n",
       "      <td>submersible</td>\n",
       "      <td>submersible</td>\n",
       "      <td>vwc</td>\n",
       "      <td>user-group</td>\n",
       "      <td>never pay</td>\n",
       "      <td>never pay</td>\n",
       "      <td>soft</td>\n",
       "      <td>good</td>\n",
       "      <td>dry</td>\n",
       "      <td>dry</td>\n",
       "      <td>machine dbh</td>\n",
       "      <td>borehole</td>\n",
       "      <td>groundwater</td>\n",
       "      <td>communal standpipe multiple</td>\n",
       "      <td>communal standpipe</td>\n",
       "    </tr>\n",
       "    <tr>\n",
       "      <th>4</th>\n",
       "      <td>19728</td>\n",
       "      <td>0.0</td>\n",
       "      <td>2011-07-13</td>\n",
       "      <td>Action In A</td>\n",
       "      <td>0</td>\n",
       "      <td>Artisan</td>\n",
       "      <td>31.130847</td>\n",
       "      <td>-1.825359</td>\n",
       "      <td>Shuleni</td>\n",
       "      <td>0</td>\n",
       "      <td>Lake Victoria</td>\n",
       "      <td>Kyanyamisa</td>\n",
       "      <td>Kagera</td>\n",
       "      <td>18</td>\n",
       "      <td>1</td>\n",
       "      <td>Karagwe</td>\n",
       "      <td>Nyakasimbi</td>\n",
       "      <td>0</td>\n",
       "      <td>True</td>\n",
       "      <td>GeoData Consultants Ltd</td>\n",
       "      <td>NaN</td>\n",
       "      <td>NaN</td>\n",
       "      <td>True</td>\n",
       "      <td>0</td>\n",
       "      <td>gravity</td>\n",
       "      <td>gravity</td>\n",
       "      <td>gravity</td>\n",
       "      <td>other</td>\n",
       "      <td>other</td>\n",
       "      <td>never pay</td>\n",
       "      <td>never pay</td>\n",
       "      <td>soft</td>\n",
       "      <td>good</td>\n",
       "      <td>seasonal</td>\n",
       "      <td>seasonal</td>\n",
       "      <td>rainwater harvesting</td>\n",
       "      <td>rainwater harvesting</td>\n",
       "      <td>surface</td>\n",
       "      <td>communal standpipe</td>\n",
       "      <td>communal standpipe</td>\n",
       "    </tr>\n",
       "  </tbody>\n",
       "</table>\n",
       "</div>"
      ],
      "text/plain": [
       "      id  amount_tsh date_recorded        funder  gps_height     installer  \\\n",
       "0  69572      6000.0    2011-03-14         Roman        1390         Roman   \n",
       "1   8776         0.0    2013-03-06       Grumeti        1399       GRUMETI   \n",
       "2  34310        25.0    2013-02-25  Lottery Club         686  World vision   \n",
       "3  67743         0.0    2013-01-28        Unicef         263        UNICEF   \n",
       "4  19728         0.0    2011-07-13   Action In A           0       Artisan   \n",
       "\n",
       "   longitude   latitude              wpt_name  num_private  \\\n",
       "0  34.938093  -9.856322                  none            0   \n",
       "1  34.698766  -2.147466              Zahanati            0   \n",
       "2  37.460664  -3.821329           Kwa Mahundi            0   \n",
       "3  38.486161 -11.155298  Zahanati Ya Nanyumbu            0   \n",
       "4  31.130847  -1.825359               Shuleni            0   \n",
       "\n",
       "                     basin  subvillage   region  region_code  district_code  \\\n",
       "0               Lake Nyasa    Mnyusi B   Iringa           11              5   \n",
       "1            Lake Victoria     Nyamara     Mara           20              2   \n",
       "2                  Pangani     Majengo  Manyara           21              4   \n",
       "3  Ruvuma / Southern Coast  Mahakamani   Mtwara           90             63   \n",
       "4            Lake Victoria  Kyanyamisa   Kagera           18              1   \n",
       "\n",
       "         lga        ward  population public_meeting              recorded_by  \\\n",
       "0     Ludewa    Mundindi         109           True  GeoData Consultants Ltd   \n",
       "1  Serengeti       Natta         280            NaN  GeoData Consultants Ltd   \n",
       "2  Simanjiro     Ngorika         250           True  GeoData Consultants Ltd   \n",
       "3   Nanyumbu    Nanyumbu          58           True  GeoData Consultants Ltd   \n",
       "4    Karagwe  Nyakasimbi           0           True  GeoData Consultants Ltd   \n",
       "\n",
       "  scheme_management                  scheme_name permit  construction_year  \\\n",
       "0               VWC                        Roman  False               1999   \n",
       "1             Other                          NaN   True               2010   \n",
       "2               VWC  Nyumba ya mungu pipe scheme   True               2009   \n",
       "3               VWC                          NaN   True               1986   \n",
       "4               NaN                          NaN   True                  0   \n",
       "\n",
       "  extraction_type extraction_type_group extraction_type_class management  \\\n",
       "0         gravity               gravity               gravity        vwc   \n",
       "1         gravity               gravity               gravity        wug   \n",
       "2         gravity               gravity               gravity        vwc   \n",
       "3     submersible           submersible           submersible        vwc   \n",
       "4         gravity               gravity               gravity      other   \n",
       "\n",
       "  management_group         payment payment_type water_quality quality_group  \\\n",
       "0       user-group    pay annually     annually          soft          good   \n",
       "1       user-group       never pay    never pay          soft          good   \n",
       "2       user-group  pay per bucket   per bucket          soft          good   \n",
       "3       user-group       never pay    never pay          soft          good   \n",
       "4            other       never pay    never pay          soft          good   \n",
       "\n",
       "       quantity quantity_group                source           source_type  \\\n",
       "0        enough         enough                spring                spring   \n",
       "1  insufficient   insufficient  rainwater harvesting  rainwater harvesting   \n",
       "2        enough         enough                   dam                   dam   \n",
       "3           dry            dry           machine dbh              borehole   \n",
       "4      seasonal       seasonal  rainwater harvesting  rainwater harvesting   \n",
       "\n",
       "  source_class              waterpoint_type waterpoint_type_group  \n",
       "0  groundwater           communal standpipe    communal standpipe  \n",
       "1      surface           communal standpipe    communal standpipe  \n",
       "2      surface  communal standpipe multiple    communal standpipe  \n",
       "3  groundwater  communal standpipe multiple    communal standpipe  \n",
       "4      surface           communal standpipe    communal standpipe  "
      ]
     },
     "execution_count": 5,
     "metadata": {},
     "output_type": "execute_result"
    }
   ],
   "source": [
    "# Open the csv file, print its shape, and examine the first 5 rows of data\n",
    "original_features_df = pd.read_csv('./Data/4910797b-ee55-40a7-8668-10efd5c1b960.csv')\n",
    "print(original_features_df.shape)\n",
    "original_features_df.head()"
   ]
  },
  {
   "cell_type": "markdown",
   "metadata": {},
   "source": [
    "I then went through the process of indentifying the features I wanted to incorporate into my modeling, and verified that the information those columns contained was filled as accurately as possible. I replaced some values that were zeros, such as for \"population\", with np.nans so that they would be handled by my sklearn pipelines. I also binned many categorical values for columns like \"subvillage\" that contained thousands of distinct values. "
   ]
  },
  {
   "cell_type": "code",
   "execution_count": 14,
   "metadata": {},
   "outputs": [],
   "source": [
    "df = pd.read_csv('/Users/samalainabayeva/Desktop/Water Project CSVs/updated_features.csv', index_col=0)"
   ]
  },
  {
   "cell_type": "code",
   "execution_count": 15,
   "metadata": {},
   "outputs": [
    {
     "name": "stdout",
     "output_type": "stream",
     "text": [
      "(59400, 27)\n"
     ]
    },
    {
     "data": {
      "text/html": [
       "<div>\n",
       "<style scoped>\n",
       "    .dataframe tbody tr th:only-of-type {\n",
       "        vertical-align: middle;\n",
       "    }\n",
       "\n",
       "    .dataframe tbody tr th {\n",
       "        vertical-align: top;\n",
       "    }\n",
       "\n",
       "    .dataframe thead th {\n",
       "        text-align: right;\n",
       "    }\n",
       "</style>\n",
       "<table border=\"1\" class=\"dataframe\">\n",
       "  <thead>\n",
       "    <tr style=\"text-align: right;\">\n",
       "      <th></th>\n",
       "      <th>amount_tsh</th>\n",
       "      <th>funder</th>\n",
       "      <th>gps_height</th>\n",
       "      <th>installer</th>\n",
       "      <th>basin</th>\n",
       "      <th>subvillage</th>\n",
       "      <th>region_code</th>\n",
       "      <th>district_code</th>\n",
       "      <th>lga</th>\n",
       "      <th>population</th>\n",
       "      <th>public_meeting</th>\n",
       "      <th>scheme_management</th>\n",
       "      <th>permit</th>\n",
       "      <th>construction_year</th>\n",
       "      <th>extraction_type</th>\n",
       "      <th>management</th>\n",
       "      <th>management_group</th>\n",
       "      <th>payment_type</th>\n",
       "      <th>water_quality</th>\n",
       "      <th>quantity</th>\n",
       "      <th>source</th>\n",
       "      <th>source_class</th>\n",
       "      <th>waterpoint_type</th>\n",
       "      <th>dates_passed</th>\n",
       "      <th>Target</th>\n",
       "      <th>ward</th>\n",
       "      <th>scheme_name</th>\n",
       "    </tr>\n",
       "  </thead>\n",
       "  <tbody>\n",
       "    <tr>\n",
       "      <th>0</th>\n",
       "      <td>6000.0</td>\n",
       "      <td>Roman</td>\n",
       "      <td>1390</td>\n",
       "      <td>Roman</td>\n",
       "      <td>Lake Nyasa</td>\n",
       "      <td>Other</td>\n",
       "      <td>11</td>\n",
       "      <td>5</td>\n",
       "      <td>Ludewa</td>\n",
       "      <td>109.0</td>\n",
       "      <td>True</td>\n",
       "      <td>VWC</td>\n",
       "      <td>False</td>\n",
       "      <td>1999.0</td>\n",
       "      <td>gravity</td>\n",
       "      <td>vwc</td>\n",
       "      <td>user-group</td>\n",
       "      <td>annually</td>\n",
       "      <td>soft</td>\n",
       "      <td>enough</td>\n",
       "      <td>spring</td>\n",
       "      <td>groundwater</td>\n",
       "      <td>communal standpipe</td>\n",
       "      <td>995</td>\n",
       "      <td>0</td>\n",
       "      <td>other</td>\n",
       "      <td>Roman</td>\n",
       "    </tr>\n",
       "    <tr>\n",
       "      <th>1</th>\n",
       "      <td>NaN</td>\n",
       "      <td>other</td>\n",
       "      <td>1399</td>\n",
       "      <td>other</td>\n",
       "      <td>Lake Victoria</td>\n",
       "      <td>Other</td>\n",
       "      <td>20</td>\n",
       "      <td>2</td>\n",
       "      <td>Serengeti</td>\n",
       "      <td>280.0</td>\n",
       "      <td>NaN</td>\n",
       "      <td>Other</td>\n",
       "      <td>True</td>\n",
       "      <td>2010.0</td>\n",
       "      <td>gravity</td>\n",
       "      <td>wug</td>\n",
       "      <td>user-group</td>\n",
       "      <td>never pay</td>\n",
       "      <td>soft</td>\n",
       "      <td>insufficient</td>\n",
       "      <td>rainwater harvesting</td>\n",
       "      <td>surface</td>\n",
       "      <td>communal standpipe</td>\n",
       "      <td>272</td>\n",
       "      <td>0</td>\n",
       "      <td>Natta</td>\n",
       "      <td>NaN</td>\n",
       "    </tr>\n",
       "    <tr>\n",
       "      <th>2</th>\n",
       "      <td>25.0</td>\n",
       "      <td>other</td>\n",
       "      <td>686</td>\n",
       "      <td>dif_other</td>\n",
       "      <td>Pangani</td>\n",
       "      <td>Majengo</td>\n",
       "      <td>21</td>\n",
       "      <td>4</td>\n",
       "      <td>Simanjiro</td>\n",
       "      <td>250.0</td>\n",
       "      <td>True</td>\n",
       "      <td>VWC</td>\n",
       "      <td>True</td>\n",
       "      <td>2009.0</td>\n",
       "      <td>gravity</td>\n",
       "      <td>vwc</td>\n",
       "      <td>user-group</td>\n",
       "      <td>per bucket</td>\n",
       "      <td>soft</td>\n",
       "      <td>enough</td>\n",
       "      <td>dam</td>\n",
       "      <td>surface</td>\n",
       "      <td>communal standpipe multiple</td>\n",
       "      <td>281</td>\n",
       "      <td>0</td>\n",
       "      <td>other</td>\n",
       "      <td>dif_other</td>\n",
       "    </tr>\n",
       "    <tr>\n",
       "      <th>3</th>\n",
       "      <td>NaN</td>\n",
       "      <td>other</td>\n",
       "      <td>263</td>\n",
       "      <td>dif_other</td>\n",
       "      <td>Ruvuma / Southern Coast</td>\n",
       "      <td>Other</td>\n",
       "      <td>90</td>\n",
       "      <td>63</td>\n",
       "      <td>Nanyumbu</td>\n",
       "      <td>58.0</td>\n",
       "      <td>True</td>\n",
       "      <td>VWC</td>\n",
       "      <td>True</td>\n",
       "      <td>1986.0</td>\n",
       "      <td>submersible</td>\n",
       "      <td>vwc</td>\n",
       "      <td>user-group</td>\n",
       "      <td>never pay</td>\n",
       "      <td>soft</td>\n",
       "      <td>dry</td>\n",
       "      <td>machine dbh</td>\n",
       "      <td>groundwater</td>\n",
       "      <td>communal standpipe multiple</td>\n",
       "      <td>309</td>\n",
       "      <td>2</td>\n",
       "      <td>other</td>\n",
       "      <td>NaN</td>\n",
       "    </tr>\n",
       "    <tr>\n",
       "      <th>4</th>\n",
       "      <td>NaN</td>\n",
       "      <td>other</td>\n",
       "      <td>0</td>\n",
       "      <td>other</td>\n",
       "      <td>Lake Victoria</td>\n",
       "      <td>Other</td>\n",
       "      <td>18</td>\n",
       "      <td>1</td>\n",
       "      <td>Karagwe</td>\n",
       "      <td>NaN</td>\n",
       "      <td>True</td>\n",
       "      <td>NaN</td>\n",
       "      <td>True</td>\n",
       "      <td>NaN</td>\n",
       "      <td>gravity</td>\n",
       "      <td>other</td>\n",
       "      <td>other</td>\n",
       "      <td>never pay</td>\n",
       "      <td>soft</td>\n",
       "      <td>seasonal</td>\n",
       "      <td>rainwater harvesting</td>\n",
       "      <td>surface</td>\n",
       "      <td>communal standpipe</td>\n",
       "      <td>874</td>\n",
       "      <td>0</td>\n",
       "      <td>other</td>\n",
       "      <td>NaN</td>\n",
       "    </tr>\n",
       "  </tbody>\n",
       "</table>\n",
       "</div>"
      ],
      "text/plain": [
       "   amount_tsh funder  gps_height  installer                    basin  \\\n",
       "0      6000.0  Roman        1390      Roman               Lake Nyasa   \n",
       "1         NaN  other        1399      other            Lake Victoria   \n",
       "2        25.0  other         686  dif_other                  Pangani   \n",
       "3         NaN  other         263  dif_other  Ruvuma / Southern Coast   \n",
       "4         NaN  other           0      other            Lake Victoria   \n",
       "\n",
       "  subvillage  region_code  district_code        lga  population  \\\n",
       "0      Other           11              5     Ludewa       109.0   \n",
       "1      Other           20              2  Serengeti       280.0   \n",
       "2    Majengo           21              4  Simanjiro       250.0   \n",
       "3      Other           90             63   Nanyumbu        58.0   \n",
       "4      Other           18              1    Karagwe         NaN   \n",
       "\n",
       "  public_meeting scheme_management permit  construction_year extraction_type  \\\n",
       "0           True               VWC  False             1999.0         gravity   \n",
       "1            NaN             Other   True             2010.0         gravity   \n",
       "2           True               VWC   True             2009.0         gravity   \n",
       "3           True               VWC   True             1986.0     submersible   \n",
       "4           True               NaN   True                NaN         gravity   \n",
       "\n",
       "  management management_group payment_type water_quality      quantity  \\\n",
       "0        vwc       user-group     annually          soft        enough   \n",
       "1        wug       user-group    never pay          soft  insufficient   \n",
       "2        vwc       user-group   per bucket          soft        enough   \n",
       "3        vwc       user-group    never pay          soft           dry   \n",
       "4      other            other    never pay          soft      seasonal   \n",
       "\n",
       "                 source source_class              waterpoint_type  \\\n",
       "0                spring  groundwater           communal standpipe   \n",
       "1  rainwater harvesting      surface           communal standpipe   \n",
       "2                   dam      surface  communal standpipe multiple   \n",
       "3           machine dbh  groundwater  communal standpipe multiple   \n",
       "4  rainwater harvesting      surface           communal standpipe   \n",
       "\n",
       "   dates_passed  Target   ward scheme_name  \n",
       "0           995       0  other       Roman  \n",
       "1           272       0  Natta         NaN  \n",
       "2           281       0  other   dif_other  \n",
       "3           309       2  other         NaN  \n",
       "4           874       0  other         NaN  "
      ]
     },
     "execution_count": 15,
     "metadata": {},
     "output_type": "execute_result"
    }
   ],
   "source": [
    "print(df.shape)\n",
    "df.head()"
   ]
  },
  {
   "cell_type": "markdown",
   "metadata": {},
   "source": [
    "After feature selection, my data now contained 26 feature columns, and 1 target column. The next steps that I needed to implement were the creation of a class to track the performance of my model iterations, to perform a train/test split on my data to prevent any form of data leakage, to create a smaller random sample of the data for me to use in grid searches in order to fine tune my hyper parameters, the composition of sklearn pipelines to facilitate easier revisions to my models per iteration, and the instantiation of a dummy model to provide a baseline standard of performance."
   ]
  },
  {
   "cell_type": "markdown",
   "metadata": {},
   "source": [
    "## Preparation for model iteration"
   ]
  },
  {
   "cell_type": "code",
   "execution_count": 45,
   "metadata": {},
   "outputs": [],
   "source": [
    "# Creating the class that will store my data\n",
    "\n",
    "class Model():\n",
    "    model_list = []\n",
    "    model_df = pd.DataFrame({\"Name\": pd.Series(dtype='str'), \"train_score\": pd.Series(dtype='float64'),\\\n",
    "                             'train_log_loss': pd.Series(dtype='float64'), \"test_score\": pd.Series(dtype='float64'),\n",
    "                             'test_log_loss': pd.Series(dtype='float64')})\n",
    "    \n",
    "    def __init__(self, name, model):\n",
    "        self.name = name\n",
    "        self.model = model\n",
    "        self.params = model.get_params\n",
    "        self.train_score = model.score(X_train, y_train)\n",
    "        self.test_score = model.score(X_test, y_test)\n",
    "        self.train_log_loss = -np.mean(cross_val_score(self.model, X_train, y_train, scoring='neg_log_loss'))\n",
    "        self.test_log_loss = -np.mean(cross_val_score(self.model, X_test, y_test, scoring='neg_log_loss'))\n",
    "                                        \n",
    "        Model.model_list.append(self)\n",
    "        attributes = np.array([self.name, self.train_score, self.train_log_loss, self.test_score, self.test_log_loss])\n",
    "        self.attributes = attributes\n",
    "        \n",
    "        self.attributes_df = pd.DataFrame([attributes], columns=['Name', 'train_score', 'train_log_loss', \\\n",
    "                            'test_score', 'test_log_loss'])\n",
    "        Model.model_df = pd.concat([Model.model_df, self.attributes_df], axis=0)\n",
    "\n",
    "    @classmethod\n",
    "    def get_model_list(cls):\n",
    "        return cls.model_list"
   ]
  },
  {
   "cell_type": "code",
   "execution_count": 17,
   "metadata": {},
   "outputs": [],
   "source": [
    "# Create the smaller data set to be used in grid searches\n",
    "sample_data = df.sample(5000, random_state=42)"
   ]
  },
  {
   "cell_type": "code",
   "execution_count": 27,
   "metadata": {},
   "outputs": [],
   "source": [
    "# Train/test split on the data\n",
    "X = df.drop(\"Target\", axis = 1)\n",
    "y = df['Target']\n",
    "X_train, X_test, y_train, y_test = train_test_split(X, y, random_state=42)"
   ]
  },
  {
   "cell_type": "code",
   "execution_count": 61,
   "metadata": {},
   "outputs": [],
   "source": [
    "# Create Pipelines for numeric and categorical data\n",
    "\n",
    "subpipe_numerics = Pipeline(steps=[\n",
    "    ('mean_impute', SimpleImputer(add_indicator=True, strategy='mean')),\n",
    "    ('ss', StandardScaler())\n",
    "], verbose=True)\n",
    "\n",
    "sub_pipe_cat = Pipeline(steps=[\n",
    "    \n",
    "    ('cat_impute', SimpleImputer(strategy='most_frequent', add_indicator=True)),\n",
    "    ('ohe', OneHotEncoder(handle_unknown='ignore', sparse=True))  \n",
    "], verbose=True)"
   ]
  },
  {
   "cell_type": "code",
   "execution_count": 23,
   "metadata": {},
   "outputs": [],
   "source": [
    "# Create a column transformer to implement the above sub-pipelines\n",
    "\n",
    "CT = ColumnTransformer(transformers=[\n",
    "    ('subpipe_numerics', subpipe_numerics, selector(dtype_include=np.number)),\n",
    "    ('subpipe_cat', sub_pipe_cat, selector(dtype_include=object))\n",
    "], remainder='passthrough', n_jobs= 4, verbose=True)"
   ]
  },
  {
   "cell_type": "code",
   "execution_count": 25,
   "metadata": {},
   "outputs": [],
   "source": [
    "# Create the final pipeline for model instantiation.\n",
    "dummy_model = Pipeline(steps=[\n",
    "    ('CT', CT),\n",
    "    ('dummy', DummyClassifier(strategy=\"most_frequent\"))\n",
    "], verbose=True)"
   ]
  },
  {
   "cell_type": "markdown",
   "metadata": {},
   "source": [
    "Now that all of the basic components are in place, I tested the results of the DummyClassifier model in order to establish a performance baseline."
   ]
  },
  {
   "cell_type": "markdown",
   "metadata": {},
   "source": [
    "## Dummy model instantiation"
   ]
  },
  {
   "cell_type": "code",
   "execution_count": 28,
   "metadata": {},
   "outputs": [
    {
     "name": "stdout",
     "output_type": "stream",
     "text": [
      "[Pipeline] ................ (step 1 of 2) Processing CT, total=   9.2s\n",
      "[Pipeline] ............. (step 2 of 2) Processing dummy, total=   0.0s\n"
     ]
    },
    {
     "data": {
      "text/plain": [
       "Pipeline(steps=[('CT',\n",
       "                 ColumnTransformer(n_jobs=4, remainder='passthrough',\n",
       "                                   transformers=[('subpipe_numerics',\n",
       "                                                  Pipeline(steps=[('mean_impute',\n",
       "                                                                   SimpleImputer(add_indicator=True)),\n",
       "                                                                  ('ss',\n",
       "                                                                   StandardScaler())]),\n",
       "                                                  <sklearn.compose._column_transformer.make_column_selector object at 0x7fa356100b50>),\n",
       "                                                 ('subpipe_cat',\n",
       "                                                  Pipeline(steps=[('cat_impute',\n",
       "                                                                   SimpleImputer(add_indicator=True,\n",
       "                                                                                 strategy='most_frequent')),\n",
       "                                                                  ('ohe',\n",
       "                                                                   OneHotEncoder(handle_unknown='ignore'))],\n",
       "                                                           verbose=True),\n",
       "                                                  <sklearn.compose._column_transformer.make_column_selector object at 0x7fa356100a00>)],\n",
       "                                   verbose=True)),\n",
       "                ('dummy', DummyClassifier(strategy='most_frequent'))],\n",
       "         verbose=True)"
      ]
     },
     "execution_count": 28,
     "metadata": {},
     "output_type": "execute_result"
    }
   ],
   "source": [
    "dummy_model.fit(X_train, y_train)"
   ]
  },
  {
   "cell_type": "markdown",
   "metadata": {},
   "source": [
    "I then examined the performance of this dummy model, and instantiated it as a new class object. "
   ]
  },
  {
   "cell_type": "code",
   "execution_count": 38,
   "metadata": {},
   "outputs": [
    {
     "data": {
      "image/png": "[encoded data removed]",
      "text/plain": [
       "<Figure size 576x576 with 2 Axes>"
      ]
     },
     "metadata": {
      "needs_background": "light"
     },
     "output_type": "display_data"
    }
   ],
   "source": [
    "# Plotting a confusion matrix; all of the predictions were for class 0 - the most frequently occurring class\n",
    "fig, ax = plt.subplots(figsize=(8,8))\n",
    "plot_confusion_matrix(dummy_model, X_test, y_test, ax=ax);"
   ]
  },
  {
   "cell_type": "code",
   "execution_count": 39,
   "metadata": {},
   "outputs": [
    {
     "name": "stdout",
     "output_type": "stream",
     "text": [
      "              precision    recall  f1-score   support\n",
      "\n",
      "           0       0.55      1.00      0.71      8098\n",
      "           1       0.00      0.00      0.00      1074\n",
      "           2       0.00      0.00      0.00      5678\n",
      "\n",
      "    accuracy                           0.55     14850\n",
      "   macro avg       0.18      0.33      0.24     14850\n",
      "weighted avg       0.30      0.55      0.38     14850\n",
      "\n"
     ]
    }
   ],
   "source": [
    "# Looking at the classification report to assess the performance metrics of the dummy on test data\n",
    "print(classification_report(y_test, dummy_model.predict(X_test), zero_division=0))"
   ]
  },
  {
   "cell_type": "code",
   "execution_count": 43,
   "metadata": {},
   "outputs": [
    {
     "data": {
      "text/plain": [
       "0    0.545320\n",
       "2    0.382357\n",
       "1    0.072323\n",
       "Name: Target, dtype: float64"
      ]
     },
     "execution_count": 43,
     "metadata": {},
     "output_type": "execute_result"
    }
   ],
   "source": [
    "# Substantiating the results of the classification report by examing the value counts of the target in test data\n",
    "y_test.value_counts(normalize=True)"
   ]
  },
  {
   "cell_type": "code",
   "execution_count": 46,
   "metadata": {},
   "outputs": [
    {
     "name": "stdout",
     "output_type": "stream",
     "text": [
      "[Pipeline] ................ (step 1 of 2) Processing CT, total=   5.2s\n",
      "[Pipeline] ............. (step 2 of 2) Processing dummy, total=   0.0s\n",
      "[Pipeline] ................ (step 1 of 2) Processing CT, total=   5.2s\n",
      "[Pipeline] ............. (step 2 of 2) Processing dummy, total=   0.0s\n",
      "[Pipeline] ................ (step 1 of 2) Processing CT, total=   5.4s\n",
      "[Pipeline] ............. (step 2 of 2) Processing dummy, total=   0.0s\n",
      "[Pipeline] ................ (step 1 of 2) Processing CT, total=   5.4s\n",
      "[Pipeline] ............. (step 2 of 2) Processing dummy, total=   0.0s\n",
      "[Pipeline] ................ (step 1 of 2) Processing CT, total=   5.4s\n",
      "[Pipeline] ............. (step 2 of 2) Processing dummy, total=   0.0s\n",
      "[Pipeline] ................ (step 1 of 2) Processing CT, total=   0.7s\n",
      "[Pipeline] ............. (step 2 of 2) Processing dummy, total=   0.0s\n",
      "[Pipeline] ................ (step 1 of 2) Processing CT, total=   0.7s\n",
      "[Pipeline] ............. (step 2 of 2) Processing dummy, total=   0.0s\n",
      "[Pipeline] ................ (step 1 of 2) Processing CT, total=   0.8s\n",
      "[Pipeline] ............. (step 2 of 2) Processing dummy, total=   0.0s\n",
      "[Pipeline] ................ (step 1 of 2) Processing CT, total=   0.7s\n",
      "[Pipeline] ............. (step 2 of 2) Processing dummy, total=   0.0s\n",
      "[Pipeline] ................ (step 1 of 2) Processing CT, total=   0.7s\n",
      "[Pipeline] ............. (step 2 of 2) Processing dummy, total=   0.0s\n"
     ]
    }
   ],
   "source": [
    "dummy_baseline = Model(\"dummy\", dummy_model)"
   ]
  },
  {
   "cell_type": "code",
   "execution_count": 48,
   "metadata": {},
   "outputs": [
    {
     "data": {
      "text/html": [
       "<div>\n",
       "<style scoped>\n",
       "    .dataframe tbody tr th:only-of-type {\n",
       "        vertical-align: middle;\n",
       "    }\n",
       "\n",
       "    .dataframe tbody tr th {\n",
       "        vertical-align: top;\n",
       "    }\n",
       "\n",
       "    .dataframe thead th {\n",
       "        text-align: right;\n",
       "    }\n",
       "</style>\n",
       "<table border=\"1\" class=\"dataframe\">\n",
       "  <thead>\n",
       "    <tr style=\"text-align: right;\">\n",
       "      <th></th>\n",
       "      <th>Name</th>\n",
       "      <th>train_score</th>\n",
       "      <th>train_log_loss</th>\n",
       "      <th>test_score</th>\n",
       "      <th>test_log_loss</th>\n",
       "    </tr>\n",
       "  </thead>\n",
       "  <tbody>\n",
       "    <tr>\n",
       "      <th>0</th>\n",
       "      <td>dummy</td>\n",
       "      <td>0.542334455667789</td>\n",
       "      <td>15.807207899345318</td>\n",
       "      <td>0.5453198653198653</td>\n",
       "      <td>15.704095502925046</td>\n",
       "    </tr>\n",
       "  </tbody>\n",
       "</table>\n",
       "</div>"
      ],
      "text/plain": [
       "    Name        train_score      train_log_loss          test_score  \\\n",
       "0  dummy  0.542334455667789  15.807207899345318  0.5453198653198653   \n",
       "\n",
       "        test_log_loss  \n",
       "0  15.704095502925046  "
      ]
     },
     "execution_count": 48,
     "metadata": {},
     "output_type": "execute_result"
    }
   ],
   "source": [
    "# First examination of the model df to capture performance statistics\n",
    "Model.model_df"
   ]
  },
  {
   "cell_type": "markdown",
   "metadata": {},
   "source": [
    "Now that I had tested a dummy model, I was prepared to test logistic regression models. Within my iteration notebook, I would simply have scrolled up and modified the components of various pipelines, but for the sake of this notebook, I will show the first implementation of a Logistic Regression model below. This model will still take advantage of the sub-pipes and column transformer that I had constructed above, and therefore the only new code cell will be the final Pipeline object used in the creation of this new model."
   ]
  },
  {
   "cell_type": "markdown",
   "metadata": {},
   "source": [
    "## Baseline Logistic Regression Model"
   ]
  },
  {
   "cell_type": "code",
   "execution_count": 50,
   "metadata": {},
   "outputs": [],
   "source": [
    "# I have limited the njobs=4 only because my computer had performance barriers during this project\n",
    "\n",
    "baseline_logistic = Pipeline(steps=[\n",
    "    ('CT', CT),\n",
    "    ('baseline_log', LogisticRegression(verbose=1, n_jobs=4))\n",
    "], verbose=True)"
   ]
  },
  {
   "cell_type": "code",
   "execution_count": 52,
   "metadata": {},
   "outputs": [
    {
     "name": "stdout",
     "output_type": "stream",
     "text": [
      "[Pipeline] ................ (step 1 of 2) Processing CT, total=   8.3s\n"
     ]
    },
    {
     "name": "stderr",
     "output_type": "stream",
     "text": [
      "[Parallel(n_jobs=4)]: Using backend LokyBackend with 4 concurrent workers.\n",
      "[Parallel(n_jobs=4)]: Done   1 out of   1 | elapsed:    2.8s finished\n"
     ]
    },
    {
     "name": "stdout",
     "output_type": "stream",
     "text": [
      "[Pipeline] ...... (step 2 of 2) Processing baseline_log, total=   2.9s\n"
     ]
    },
    {
     "data": {
      "text/plain": [
       "Pipeline(steps=[('CT',\n",
       "                 ColumnTransformer(n_jobs=4, remainder='passthrough',\n",
       "                                   transformers=[('subpipe_numerics',\n",
       "                                                  Pipeline(steps=[('mean_impute',\n",
       "                                                                   SimpleImputer(add_indicator=True)),\n",
       "                                                                  ('ss',\n",
       "                                                                   StandardScaler())]),\n",
       "                                                  <sklearn.compose._column_transformer.make_column_selector object at 0x7fa356100b50>),\n",
       "                                                 ('subpipe_cat',\n",
       "                                                  Pipeline(steps=[('cat_impute',\n",
       "                                                                   SimpleImputer(add_indicator=True,\n",
       "                                                                                 strategy='most_frequent')),\n",
       "                                                                  ('ohe',\n",
       "                                                                   OneHotEncoder(handle_unknown='ignore'))],\n",
       "                                                           verbose=True),\n",
       "                                                  <sklearn.compose._column_transformer.make_column_selector object at 0x7fa356100a00>)],\n",
       "                                   verbose=True)),\n",
       "                ('baseline_log', LogisticRegression(n_jobs=4, verbose=1))],\n",
       "         verbose=True)"
      ]
     },
     "execution_count": 52,
     "metadata": {},
     "output_type": "execute_result"
    }
   ],
   "source": [
    "# Fitting the baseline model to training data\n",
    "baseline_logistic.fit(X_train, y_train)"
   ]
  },
  {
   "cell_type": "markdown",
   "metadata": {},
   "source": [
    "Now that the baseline logistic regression model was fit, I examined the confusion matrix and classification report as I did with the baseline dummy model to assess whether there had been any improvement in the classification ability of the model."
   ]
  },
  {
   "cell_type": "code",
   "execution_count": 53,
   "metadata": {},
   "outputs": [
    {
     "data": {
      "image/png": "[encoded data removed]",
      "text/plain": [
       "<Figure size 576x576 with 2 Axes>"
      ]
     },
     "metadata": {
      "needs_background": "light"
     },
     "output_type": "display_data"
    }
   ],
   "source": [
    "# Plotting a confusion matrix; using the test data\n",
    "fig, ax = plt.subplots(figsize=(8,8))\n",
    "plot_confusion_matrix(baseline_logistic, X_test, y_test, ax=ax);"
   ]
  },
  {
   "cell_type": "code",
   "execution_count": 55,
   "metadata": {},
   "outputs": [
    {
     "name": "stdout",
     "output_type": "stream",
     "text": [
      "              precision    recall  f1-score   support\n",
      "\n",
      "           0       0.76      0.88      0.82      8098\n",
      "           1       0.54      0.19      0.28      1074\n",
      "           2       0.79      0.70      0.74      5678\n",
      "\n",
      "    accuracy                           0.76     14850\n",
      "   macro avg       0.70      0.59      0.61     14850\n",
      "weighted avg       0.75      0.76      0.75     14850\n",
      "\n"
     ]
    }
   ],
   "source": [
    "# Looking at the classification report on test data\n",
    "print(classification_report(y_test, baseline_logistic.predict(X_test), zero_division=0))"
   ]
  },
  {
   "cell_type": "code",
   "execution_count": 56,
   "metadata": {
    "collapsed": true
   },
   "outputs": [
    {
     "name": "stdout",
     "output_type": "stream",
     "text": [
      "[Pipeline] ................ (step 1 of 2) Processing CT, total=   5.2s\n"
     ]
    },
    {
     "name": "stderr",
     "output_type": "stream",
     "text": [
      "[Parallel(n_jobs=4)]: Using backend LokyBackend with 4 concurrent workers.\n",
      "[Parallel(n_jobs=4)]: Done   1 out of   1 | elapsed:    1.8s finished\n"
     ]
    },
    {
     "name": "stdout",
     "output_type": "stream",
     "text": [
      "[Pipeline] ...... (step 2 of 2) Processing baseline_log, total=   1.9s\n",
      "[Pipeline] ................ (step 1 of 2) Processing CT, total=   5.2s\n"
     ]
    },
    {
     "name": "stderr",
     "output_type": "stream",
     "text": [
      "[Parallel(n_jobs=4)]: Using backend LokyBackend with 4 concurrent workers.\n",
      "[Parallel(n_jobs=4)]: Done   1 out of   1 | elapsed:    1.7s finished\n"
     ]
    },
    {
     "name": "stdout",
     "output_type": "stream",
     "text": [
      "[Pipeline] ...... (step 2 of 2) Processing baseline_log, total=   1.8s\n",
      "[Pipeline] ................ (step 1 of 2) Processing CT, total=   5.2s\n"
     ]
    },
    {
     "name": "stderr",
     "output_type": "stream",
     "text": [
      "[Parallel(n_jobs=4)]: Using backend LokyBackend with 4 concurrent workers.\n",
      "[Parallel(n_jobs=4)]: Done   1 out of   1 | elapsed:    1.8s finished\n"
     ]
    },
    {
     "name": "stdout",
     "output_type": "stream",
     "text": [
      "[Pipeline] ...... (step 2 of 2) Processing baseline_log, total=   1.9s\n",
      "[Pipeline] ................ (step 1 of 2) Processing CT, total=   5.2s\n"
     ]
    },
    {
     "name": "stderr",
     "output_type": "stream",
     "text": [
      "[Parallel(n_jobs=4)]: Using backend LokyBackend with 4 concurrent workers.\n",
      "[Parallel(n_jobs=4)]: Done   1 out of   1 | elapsed:    1.8s finished\n"
     ]
    },
    {
     "name": "stdout",
     "output_type": "stream",
     "text": [
      "[Pipeline] ...... (step 2 of 2) Processing baseline_log, total=   1.9s\n",
      "[Pipeline] ................ (step 1 of 2) Processing CT, total=   5.3s\n"
     ]
    },
    {
     "name": "stderr",
     "output_type": "stream",
     "text": [
      "[Parallel(n_jobs=4)]: Using backend LokyBackend with 4 concurrent workers.\n",
      "[Parallel(n_jobs=4)]: Done   1 out of   1 | elapsed:    1.8s finished\n"
     ]
    },
    {
     "name": "stdout",
     "output_type": "stream",
     "text": [
      "[Pipeline] ...... (step 2 of 2) Processing baseline_log, total=   1.9s\n",
      "[Pipeline] ................ (step 1 of 2) Processing CT, total=   0.7s\n"
     ]
    },
    {
     "name": "stderr",
     "output_type": "stream",
     "text": [
      "[Parallel(n_jobs=4)]: Using backend LokyBackend with 4 concurrent workers.\n",
      "[Parallel(n_jobs=4)]: Done   1 out of   1 | elapsed:    0.7s finished\n"
     ]
    },
    {
     "name": "stdout",
     "output_type": "stream",
     "text": [
      "[Pipeline] ...... (step 2 of 2) Processing baseline_log, total=   0.8s\n",
      "[Pipeline] ................ (step 1 of 2) Processing CT, total=   0.7s\n"
     ]
    },
    {
     "name": "stderr",
     "output_type": "stream",
     "text": [
      "[Parallel(n_jobs=4)]: Using backend LokyBackend with 4 concurrent workers.\n",
      "[Parallel(n_jobs=4)]: Done   1 out of   1 | elapsed:    0.7s finished\n"
     ]
    },
    {
     "name": "stdout",
     "output_type": "stream",
     "text": [
      "[Pipeline] ...... (step 2 of 2) Processing baseline_log, total=   0.8s\n",
      "[Pipeline] ................ (step 1 of 2) Processing CT, total=   0.7s\n"
     ]
    },
    {
     "name": "stderr",
     "output_type": "stream",
     "text": [
      "[Parallel(n_jobs=4)]: Using backend LokyBackend with 4 concurrent workers.\n",
      "[Parallel(n_jobs=4)]: Done   1 out of   1 | elapsed:    0.7s finished\n"
     ]
    },
    {
     "name": "stdout",
     "output_type": "stream",
     "text": [
      "[Pipeline] ...... (step 2 of 2) Processing baseline_log, total=   0.8s\n",
      "[Pipeline] ................ (step 1 of 2) Processing CT, total=   0.8s\n"
     ]
    },
    {
     "name": "stderr",
     "output_type": "stream",
     "text": [
      "[Parallel(n_jobs=4)]: Using backend LokyBackend with 4 concurrent workers.\n",
      "[Parallel(n_jobs=4)]: Done   1 out of   1 | elapsed:    0.7s finished\n"
     ]
    },
    {
     "name": "stdout",
     "output_type": "stream",
     "text": [
      "[Pipeline] ...... (step 2 of 2) Processing baseline_log, total=   0.8s\n",
      "[Pipeline] ................ (step 1 of 2) Processing CT, total=   0.8s\n"
     ]
    },
    {
     "name": "stderr",
     "output_type": "stream",
     "text": [
      "[Parallel(n_jobs=4)]: Using backend LokyBackend with 4 concurrent workers.\n"
     ]
    },
    {
     "name": "stdout",
     "output_type": "stream",
     "text": [
      "[Pipeline] ...... (step 2 of 2) Processing baseline_log, total=   0.8s\n"
     ]
    },
    {
     "name": "stderr",
     "output_type": "stream",
     "text": [
      "[Parallel(n_jobs=4)]: Done   1 out of   1 | elapsed:    0.7s finished\n"
     ]
    }
   ],
   "source": [
    "# Creating a new class object for the purpose of tracking data\n",
    "logistic_baseline = Model(\"logistic_1\", baseline_logistic)"
   ]
  },
  {
   "cell_type": "code",
   "execution_count": 57,
   "metadata": {},
   "outputs": [
    {
     "data": {
      "text/html": [
       "<div>\n",
       "<style scoped>\n",
       "    .dataframe tbody tr th:only-of-type {\n",
       "        vertical-align: middle;\n",
       "    }\n",
       "\n",
       "    .dataframe tbody tr th {\n",
       "        vertical-align: top;\n",
       "    }\n",
       "\n",
       "    .dataframe thead th {\n",
       "        text-align: right;\n",
       "    }\n",
       "</style>\n",
       "<table border=\"1\" class=\"dataframe\">\n",
       "  <thead>\n",
       "    <tr style=\"text-align: right;\">\n",
       "      <th></th>\n",
       "      <th>Name</th>\n",
       "      <th>train_score</th>\n",
       "      <th>train_log_loss</th>\n",
       "      <th>test_score</th>\n",
       "      <th>test_log_loss</th>\n",
       "    </tr>\n",
       "  </thead>\n",
       "  <tbody>\n",
       "    <tr>\n",
       "      <th>0</th>\n",
       "      <td>dummy</td>\n",
       "      <td>0.542334455667789</td>\n",
       "      <td>15.807207899345318</td>\n",
       "      <td>0.5453198653198653</td>\n",
       "      <td>15.704095502925046</td>\n",
       "    </tr>\n",
       "    <tr>\n",
       "      <th>0</th>\n",
       "      <td>logistic_1</td>\n",
       "      <td>0.7717620650953985</td>\n",
       "      <td>0.5773054993346605</td>\n",
       "      <td>0.7636363636363637</td>\n",
       "      <td>0.5987052306678315</td>\n",
       "    </tr>\n",
       "  </tbody>\n",
       "</table>\n",
       "</div>"
      ],
      "text/plain": [
       "         Name         train_score      train_log_loss          test_score  \\\n",
       "0       dummy   0.542334455667789  15.807207899345318  0.5453198653198653   \n",
       "0  logistic_1  0.7717620650953985  0.5773054993346605  0.7636363636363637   \n",
       "\n",
       "        test_log_loss  \n",
       "0  15.704095502925046  \n",
       "0  0.5987052306678315  "
      ]
     },
     "execution_count": 57,
     "metadata": {},
     "output_type": "execute_result"
    }
   ],
   "source": [
    "# Checking the updated dataframe to compare the first two models\n",
    "Model.model_df"
   ]
  },
  {
   "cell_type": "markdown",
   "metadata": {},
   "source": [
    "The first incarnation of a logistic regression model already made substantial improvements on the results of the dummy model. The test score had improved by nearly 22 basis points and the mean log loss had dropped precipitously from around 15.7 to less than 0.6. These metric improvements were quite significant, and gave hope that further improvements might be made."
   ]
  },
  {
   "cell_type": "markdown",
   "metadata": {},
   "source": [
    "## Grid Searches"
   ]
  },
  {
   "cell_type": "markdown",
   "metadata": {},
   "source": [
    "The next effort to improve upon this model was conducting a grid search in order to tune the hyper-parameters of the logistic regression model. The default hyper-parameters I wanted to manipulate for an sklearn LogisticRegression model object are:\n",
    "- penalty = 'l2' ('l1' and 'l2' were my primary focus)\n",
    "- tol = 0.0001\n",
    "- C = 1.0\n",
    "- fit_intercept = True\n",
    "- solver = 'lbfgs' (only 'newton-cg', 'sag', 'saga', and 'lbfgs' are suited for multinomial loss)\n",
    "- max_iter = 100\n",
    "\n",
    "Once again, because of computational limitations, I had to perform the grid search using a smaller sample of the overall data."
   ]
  },
  {
   "cell_type": "code",
   "execution_count": 60,
   "metadata": {},
   "outputs": [
    {
     "name": "stdout",
     "output_type": "stream",
     "text": [
      "memory\n",
      "steps\n",
      "verbose\n",
      "CT\n",
      "baseline_log\n",
      "CT__n_jobs\n",
      "CT__remainder\n",
      "CT__sparse_threshold\n",
      "CT__transformer_weights\n",
      "CT__transformers\n",
      "CT__verbose\n",
      "CT__subpipe_numerics\n",
      "CT__subpipe_cat\n",
      "CT__subpipe_numerics__memory\n",
      "CT__subpipe_numerics__steps\n",
      "CT__subpipe_numerics__verbose\n",
      "CT__subpipe_numerics__mean_impute\n",
      "CT__subpipe_numerics__ss\n",
      "CT__subpipe_numerics__mean_impute__add_indicator\n",
      "CT__subpipe_numerics__mean_impute__copy\n",
      "CT__subpipe_numerics__mean_impute__fill_value\n",
      "CT__subpipe_numerics__mean_impute__missing_values\n",
      "CT__subpipe_numerics__mean_impute__strategy\n",
      "CT__subpipe_numerics__mean_impute__verbose\n",
      "CT__subpipe_numerics__ss__copy\n",
      "CT__subpipe_numerics__ss__with_mean\n",
      "CT__subpipe_numerics__ss__with_std\n",
      "CT__subpipe_cat__memory\n",
      "CT__subpipe_cat__steps\n",
      "CT__subpipe_cat__verbose\n",
      "CT__subpipe_cat__cat_impute\n",
      "CT__subpipe_cat__ohe\n",
      "CT__subpipe_cat__cat_impute__add_indicator\n",
      "CT__subpipe_cat__cat_impute__copy\n",
      "CT__subpipe_cat__cat_impute__fill_value\n",
      "CT__subpipe_cat__cat_impute__missing_values\n",
      "CT__subpipe_cat__cat_impute__strategy\n",
      "CT__subpipe_cat__cat_impute__verbose\n",
      "CT__subpipe_cat__ohe__categories\n",
      "CT__subpipe_cat__ohe__drop\n",
      "CT__subpipe_cat__ohe__dtype\n",
      "CT__subpipe_cat__ohe__handle_unknown\n",
      "CT__subpipe_cat__ohe__sparse\n",
      "baseline_log__C\n",
      "baseline_log__class_weight\n",
      "baseline_log__dual\n",
      "baseline_log__fit_intercept\n",
      "baseline_log__intercept_scaling\n",
      "baseline_log__l1_ratio\n",
      "baseline_log__max_iter\n",
      "baseline_log__multi_class\n",
      "baseline_log__n_jobs\n",
      "baseline_log__penalty\n",
      "baseline_log__random_state\n",
      "baseline_log__solver\n",
      "baseline_log__tol\n",
      "baseline_log__verbose\n",
      "baseline_log__warm_start\n"
     ]
    }
   ],
   "source": [
    "# Investigating the hyper-parameters that I want to search for, loop optional, but improves readability \n",
    "for i in baseline_logistic.get_params().keys():\n",
    "    print(i)"
   ]
  },
  {
   "cell_type": "code",
   "execution_count": 63,
   "metadata": {},
   "outputs": [],
   "source": [
    "# Establishing a starting dictionary of parameters and optional values\n",
    "parameters = {\n",
    "    \"baseline_log__penalty\": [\"l1\", \"l2\"],\n",
    "    \"baseline_log__tol\": [.0001, .001, .01],\n",
    "    \"baseline_log__C\": [1, .1, .01],\n",
    "    \"baseline_log__fit_intercept\": [True, False],\n",
    "    \"baseline_log__solver\": ['newton-cg', 'sag', 'lbfgs'],\n",
    "    \"baseline_log__max_iter\": [100, 250, 500]\n",
    "}"
   ]
  },
  {
   "cell_type": "code",
   "execution_count": 65,
   "metadata": {},
   "outputs": [],
   "source": [
    "grid_search = GridSearchCV(\n",
    "    estimator=baseline_logistic,\n",
    "    param_grid=parameters,\n",
    "    n_jobs=4,\n",
    "    cv=5,\n",
    "    verbose=2)"
   ]
  },
  {
   "cell_type": "code",
   "execution_count": 58,
   "metadata": {},
   "outputs": [],
   "source": [
    "# Assigning variables of the sample data for grid search\n",
    "X_sample = sample_data.drop('Target', axis=1)\n",
    "y_sample = sample_data['Target']"
   ]
  },
  {
   "cell_type": "markdown",
   "metadata": {},
   "source": [
    "With the grid search parameters and GridSearchCV object defined, the next step is to fit my sample data using the GridSearchCV object. Grid search will perform 5 folds for 2 penalties, 3 tolerances, 3 C values, 2 intercept conditions, 3 solvers, and 3 max_iter values."
   ]
  },
  {
   "cell_type": "code",
   "execution_count": 66,
   "metadata": {},
   "outputs": [
    {
     "data": {
      "text/plain": [
       "1620"
      ]
     },
     "execution_count": 66,
     "metadata": {},
     "output_type": "execute_result"
    }
   ],
   "source": [
    "5*2*3*3*2*3*3"
   ]
  },
  {
   "cell_type": "markdown",
   "metadata": {},
   "source": [
    "That means that the grid search will fit perform 1620 separate fits. Given that my original data's train set is roughly 50k values, this 5k sample is a much more manageable computational load."
   ]
  },
  {
   "cell_type": "code",
   "execution_count": 67,
   "metadata": {},
   "outputs": [
    {
     "name": "stdout",
     "output_type": "stream",
     "text": [
      "Fitting 5 folds for each of 324 candidates, totalling 1620 fits\n"
     ]
    },
    {
     "name": "stderr",
     "output_type": "stream",
     "text": [
      "[Parallel(n_jobs=4)]: Using backend LokyBackend with 4 concurrent workers.\n",
      "[Parallel(n_jobs=4)]: Done  33 tasks      | elapsed:    2.9s\n",
      "[Parallel(n_jobs=4)]: Done 154 tasks      | elapsed:   19.9s\n",
      "[Parallel(n_jobs=4)]: Done 357 tasks      | elapsed:   52.0s\n",
      "[Parallel(n_jobs=4)]: Done 640 tasks      | elapsed:  1.5min\n",
      "[Parallel(n_jobs=4)]: Done 1005 tasks      | elapsed:  2.2min\n",
      "[Parallel(n_jobs=4)]: Done 1450 tasks      | elapsed:  2.8min\n",
      "[Parallel(n_jobs=4)]: Done 1620 out of 1620 | elapsed:  3.0min finished\n"
     ]
    },
    {
     "name": "stdout",
     "output_type": "stream",
     "text": [
      "[Pipeline] ................ (step 1 of 2) Processing CT, total=   0.2s\n"
     ]
    },
    {
     "name": "stderr",
     "output_type": "stream",
     "text": [
      "[Parallel(n_jobs=4)]: Using backend ThreadingBackend with 4 concurrent workers.\n"
     ]
    },
    {
     "name": "stdout",
     "output_type": "stream",
     "text": [
      "max_iter reached after 1 seconds\n",
      "[Pipeline] ...... (step 2 of 2) Processing baseline_log, total=   0.5s\n"
     ]
    },
    {
     "name": "stderr",
     "output_type": "stream",
     "text": [
      "/Users/samalainabayeva/anaconda3/envs/learn-env/lib/python3.8/site-packages/sklearn/linear_model/_sag.py:329: ConvergenceWarning: The max_iter was reached which means the coef_ did not converge\n",
      "  warnings.warn(\"The max_iter was reached which means \"\n",
      "[Parallel(n_jobs=4)]: Done   1 out of   1 | elapsed:    0.5s finished\n"
     ]
    },
    {
     "data": {
      "text/plain": [
       "GridSearchCV(cv=5,\n",
       "             estimator=Pipeline(steps=[('CT',\n",
       "                                        ColumnTransformer(n_jobs=4,\n",
       "                                                          remainder='passthrough',\n",
       "                                                          transformers=[('subpipe_numerics',\n",
       "                                                                         Pipeline(steps=[('mean_impute',\n",
       "                                                                                          SimpleImputer(add_indicator=True)),\n",
       "                                                                                         ('ss',\n",
       "                                                                                          StandardScaler())]),\n",
       "                                                                         <sklearn.compose._column_transformer.make_column_selector object at 0x7fa356100b50>),\n",
       "                                                                        ('subpipe_cat',\n",
       "                                                                         Pipeline(steps=[('cat_impu...\n",
       "                                                          verbose=True)),\n",
       "                                       ('baseline_log',\n",
       "                                        LogisticRegression(n_jobs=4,\n",
       "                                                           verbose=1))],\n",
       "                                verbose=True),\n",
       "             n_jobs=4,\n",
       "             param_grid={'baseline_log__C': [1, 0.1, 0.01],\n",
       "                         'baseline_log__fit_intercept': [True, False],\n",
       "                         'baseline_log__max_iter': [100, 250, 500],\n",
       "                         'baseline_log__penalty': ['l1', 'l2'],\n",
       "                         'baseline_log__solver': ['newton-cg', 'sag', 'lbfgs'],\n",
       "                         'baseline_log__tol': [0.0001, 0.001, 0.01]},\n",
       "             verbose=2)"
      ]
     },
     "execution_count": 67,
     "metadata": {},
     "output_type": "execute_result"
    }
   ],
   "source": [
    "# Cell takes approximately 3 minutes to run\n",
    "grid_search.fit(X_sample, y_sample)"
   ]
  },
  {
   "cell_type": "markdown",
   "metadata": {},
   "source": [
    "After the completion of the grid search, I would investigate different components of the model. The attribute 'best_params_' displays the hyper-parameters for the model with the best score, whereas 'best_estimator_' is the actual model object using the best hyper-parameters."
   ]
  },
  {
   "cell_type": "code",
   "execution_count": 68,
   "metadata": {},
   "outputs": [
    {
     "data": {
      "text/plain": [
       "{'baseline_log__C': 1,\n",
       " 'baseline_log__fit_intercept': True,\n",
       " 'baseline_log__max_iter': 100,\n",
       " 'baseline_log__penalty': 'l2',\n",
       " 'baseline_log__solver': 'sag',\n",
       " 'baseline_log__tol': 0.0001}"
      ]
     },
     "execution_count": 68,
     "metadata": {},
     "output_type": "execute_result"
    }
   ],
   "source": [
    "grid_search.best_params_"
   ]
  },
  {
   "cell_type": "code",
   "execution_count": 69,
   "metadata": {},
   "outputs": [
    {
     "data": {
      "text/plain": [
       "Pipeline(steps=[('CT',\n",
       "                 ColumnTransformer(n_jobs=4, remainder='passthrough',\n",
       "                                   transformers=[('subpipe_numerics',\n",
       "                                                  Pipeline(steps=[('mean_impute',\n",
       "                                                                   SimpleImputer(add_indicator=True)),\n",
       "                                                                  ('ss',\n",
       "                                                                   StandardScaler())]),\n",
       "                                                  <sklearn.compose._column_transformer.make_column_selector object at 0x7fa340a25910>),\n",
       "                                                 ('subpipe_cat',\n",
       "                                                  Pipeline(steps=[('cat_impute',\n",
       "                                                                   SimpleImputer(add_indicator=True,\n",
       "                                                                                 strategy='most_frequent')),\n",
       "                                                                  ('ohe',\n",
       "                                                                   OneHotEncoder(handle_unknown='ignore'))],\n",
       "                                                           verbose=True),\n",
       "                                                  <sklearn.compose._column_transformer.make_column_selector object at 0x7fa340a25b50>)],\n",
       "                                   verbose=True)),\n",
       "                ('baseline_log',\n",
       "                 LogisticRegression(C=1, n_jobs=4, solver='sag', verbose=1))],\n",
       "         verbose=True)"
      ]
     },
     "execution_count": 69,
     "metadata": {},
     "output_type": "execute_result"
    }
   ],
   "source": [
    "# Displays the characteristics of the best model as determined by the grid search\n",
    "grid_search.best_estimator_"
   ]
  },
  {
   "cell_type": "code",
   "execution_count": 70,
   "metadata": {},
   "outputs": [
    {
     "data": {
      "text/plain": [
       "0.7538"
      ]
     },
     "execution_count": 70,
     "metadata": {},
     "output_type": "execute_result"
    }
   ],
   "source": [
    "# Displays the best score from the grid search\n",
    "grid_search.best_score_"
   ]
  },
  {
   "cell_type": "markdown",
   "metadata": {},
   "source": [
    "You will note that the best score for the grid search is not as high as the initial score for the train/test split data. That could be due to the random 5k sample that was taken, but the relative lack of improvement after conducting a 1620 fit grid search is moderately disconcerting. Furthermore, the best params found by the grid search were:\n",
    "- C = 1\n",
    "- fit_intercept = True\n",
    "- max_iter = 100\n",
    "- penalty = 'l2'\n",
    "- solver = 'sag'\n",
    "- tol = 0.0001\n",
    "\n",
    "So the only modification to the default values of the LogisticRegression object was the solver. After finding these best params, I fit the X_train and y_train full sized sets to the model with those hyperparameters, investigated their metrics, and instantiated an object to track its data."
   ]
  },
  {
   "cell_type": "code",
   "execution_count": 77,
   "metadata": {},
   "outputs": [
    {
     "name": "stdout",
     "output_type": "stream",
     "text": [
      "[Pipeline] ................ (step 1 of 2) Processing CT, total=   9.2s\n"
     ]
    },
    {
     "name": "stderr",
     "output_type": "stream",
     "text": [
      "[Parallel(n_jobs=4)]: Using backend ThreadingBackend with 4 concurrent workers.\n"
     ]
    },
    {
     "name": "stdout",
     "output_type": "stream",
     "text": [
      "max_iter reached after 5 seconds\n",
      "[Pipeline] ...... (step 2 of 2) Processing baseline_log, total=   4.7s\n"
     ]
    },
    {
     "name": "stderr",
     "output_type": "stream",
     "text": [
      "/Users/samalainabayeva/anaconda3/envs/learn-env/lib/python3.8/site-packages/sklearn/linear_model/_sag.py:329: ConvergenceWarning: The max_iter was reached which means the coef_ did not converge\n",
      "  warnings.warn(\"The max_iter was reached which means \"\n",
      "[Parallel(n_jobs=4)]: Done   1 out of   1 | elapsed:    4.7s finished\n"
     ]
    },
    {
     "data": {
      "text/plain": [
       "Pipeline(steps=[('CT',\n",
       "                 ColumnTransformer(n_jobs=4, remainder='passthrough',\n",
       "                                   transformers=[('subpipe_numerics',\n",
       "                                                  Pipeline(steps=[('mean_impute',\n",
       "                                                                   SimpleImputer(add_indicator=True)),\n",
       "                                                                  ('ss',\n",
       "                                                                   StandardScaler())]),\n",
       "                                                  <sklearn.compose._column_transformer.make_column_selector object at 0x7fa340a25910>),\n",
       "                                                 ('subpipe_cat',\n",
       "                                                  Pipeline(steps=[('cat_impute',\n",
       "                                                                   SimpleImputer(add_indicator=True,\n",
       "                                                                                 strategy='most_frequent')),\n",
       "                                                                  ('ohe',\n",
       "                                                                   OneHotEncoder(handle_unknown='ignore'))],\n",
       "                                                           verbose=True),\n",
       "                                                  <sklearn.compose._column_transformer.make_column_selector object at 0x7fa340a25b50>)],\n",
       "                                   verbose=True)),\n",
       "                ('baseline_log',\n",
       "                 LogisticRegression(C=1, n_jobs=4, solver='sag', verbose=1))],\n",
       "         verbose=True)"
      ]
     },
     "execution_count": 77,
     "metadata": {},
     "output_type": "execute_result"
    }
   ],
   "source": [
    "# Assigning the best-params model to a variable and fitting the data\n",
    "grid_baseline_log = grid_search.best_estimator_\n",
    "grid_baseline_log.fit(X_train, y_train)"
   ]
  },
  {
   "cell_type": "code",
   "execution_count": 78,
   "metadata": {},
   "outputs": [
    {
     "data": {
      "image/png": "[encoded data removed]",
      "text/plain": [
       "<Figure size 576x576 with 2 Axes>"
      ]
     },
     "metadata": {
      "needs_background": "light"
     },
     "output_type": "display_data"
    }
   ],
   "source": [
    "# Plotting a confusion matrix; using the test data after fitting grid search best estimator\n",
    "fig, ax = plt.subplots(figsize=(8,8))\n",
    "plot_confusion_matrix(grid_baseline_log, X_test, y_test, ax=ax);"
   ]
  },
  {
   "cell_type": "code",
   "execution_count": 79,
   "metadata": {},
   "outputs": [
    {
     "name": "stdout",
     "output_type": "stream",
     "text": [
      "              precision    recall  f1-score   support\n",
      "\n",
      "           0       0.75      0.89      0.82      8098\n",
      "           1       0.58      0.14      0.22      1074\n",
      "           2       0.80      0.69      0.74      5678\n",
      "\n",
      "    accuracy                           0.76     14850\n",
      "   macro avg       0.71      0.57      0.59     14850\n",
      "weighted avg       0.76      0.76      0.74     14850\n",
      "\n"
     ]
    }
   ],
   "source": [
    "# Looking at the classification report on test data after fitting grid search best estimator\n",
    "print(classification_report(y_test, grid_baseline_log.predict(X_test), zero_division=0))"
   ]
  },
  {
   "cell_type": "code",
   "execution_count": 80,
   "metadata": {
    "scrolled": true
   },
   "outputs": [
    {
     "name": "stdout",
     "output_type": "stream",
     "text": [
      "[Pipeline] ................ (step 1 of 2) Processing CT, total=   5.3s\n"
     ]
    },
    {
     "name": "stderr",
     "output_type": "stream",
     "text": [
      "[Parallel(n_jobs=4)]: Using backend LokyBackend with 4 concurrent workers.\n",
      "[Parallel(n_jobs=4)]: Done   1 out of   1 | elapsed:    3.5s finished\n"
     ]
    },
    {
     "name": "stdout",
     "output_type": "stream",
     "text": [
      "[Pipeline] ...... (step 2 of 2) Processing baseline_log, total=   3.6s\n",
      "[Pipeline] ................ (step 1 of 2) Processing CT, total=   5.2s\n"
     ]
    },
    {
     "name": "stderr",
     "output_type": "stream",
     "text": [
      "[Parallel(n_jobs=4)]: Using backend LokyBackend with 4 concurrent workers.\n",
      "[Parallel(n_jobs=4)]: Done   1 out of   1 | elapsed:    3.6s finished\n"
     ]
    },
    {
     "name": "stdout",
     "output_type": "stream",
     "text": [
      "[Pipeline] ...... (step 2 of 2) Processing baseline_log, total=   3.7s\n",
      "[Pipeline] ................ (step 1 of 2) Processing CT, total=   5.4s\n"
     ]
    },
    {
     "name": "stderr",
     "output_type": "stream",
     "text": [
      "[Parallel(n_jobs=4)]: Using backend LokyBackend with 4 concurrent workers.\n",
      "[Parallel(n_jobs=4)]: Done   1 out of   1 | elapsed:    3.7s finished\n"
     ]
    },
    {
     "name": "stdout",
     "output_type": "stream",
     "text": [
      "[Pipeline] ...... (step 2 of 2) Processing baseline_log, total=   3.8s\n",
      "[Pipeline] ................ (step 1 of 2) Processing CT, total=   5.2s\n"
     ]
    },
    {
     "name": "stderr",
     "output_type": "stream",
     "text": [
      "[Parallel(n_jobs=4)]: Using backend LokyBackend with 4 concurrent workers.\n",
      "[Parallel(n_jobs=4)]: Done   1 out of   1 | elapsed:    3.6s finished\n"
     ]
    },
    {
     "name": "stdout",
     "output_type": "stream",
     "text": [
      "[Pipeline] ...... (step 2 of 2) Processing baseline_log, total=   3.7s\n",
      "[Pipeline] ................ (step 1 of 2) Processing CT, total=   5.2s\n"
     ]
    },
    {
     "name": "stderr",
     "output_type": "stream",
     "text": [
      "[Parallel(n_jobs=4)]: Using backend LokyBackend with 4 concurrent workers.\n",
      "[Parallel(n_jobs=4)]: Done   1 out of   1 | elapsed:    3.6s finished\n"
     ]
    },
    {
     "name": "stdout",
     "output_type": "stream",
     "text": [
      "[Pipeline] ...... (step 2 of 2) Processing baseline_log, total=   3.7s\n",
      "[Pipeline] ................ (step 1 of 2) Processing CT, total=   0.7s\n"
     ]
    },
    {
     "name": "stderr",
     "output_type": "stream",
     "text": [
      "[Parallel(n_jobs=4)]: Using backend LokyBackend with 4 concurrent workers.\n",
      "[Parallel(n_jobs=4)]: Done   1 out of   1 | elapsed:    1.1s finished\n"
     ]
    },
    {
     "name": "stdout",
     "output_type": "stream",
     "text": [
      "[Pipeline] ...... (step 2 of 2) Processing baseline_log, total=   1.2s\n",
      "[Pipeline] ................ (step 1 of 2) Processing CT, total=   0.7s\n"
     ]
    },
    {
     "name": "stderr",
     "output_type": "stream",
     "text": [
      "[Parallel(n_jobs=4)]: Using backend LokyBackend with 4 concurrent workers.\n",
      "[Parallel(n_jobs=4)]: Done   1 out of   1 | elapsed:    1.0s finished\n"
     ]
    },
    {
     "name": "stdout",
     "output_type": "stream",
     "text": [
      "[Pipeline] ...... (step 2 of 2) Processing baseline_log, total=   1.2s\n",
      "[Pipeline] ................ (step 1 of 2) Processing CT, total=   0.7s\n"
     ]
    },
    {
     "name": "stderr",
     "output_type": "stream",
     "text": [
      "[Parallel(n_jobs=4)]: Using backend LokyBackend with 4 concurrent workers.\n",
      "[Parallel(n_jobs=4)]: Done   1 out of   1 | elapsed:    1.1s finished\n"
     ]
    },
    {
     "name": "stdout",
     "output_type": "stream",
     "text": [
      "[Pipeline] ...... (step 2 of 2) Processing baseline_log, total=   1.2s\n",
      "[Pipeline] ................ (step 1 of 2) Processing CT, total=   0.7s\n"
     ]
    },
    {
     "name": "stderr",
     "output_type": "stream",
     "text": [
      "[Parallel(n_jobs=4)]: Using backend LokyBackend with 4 concurrent workers.\n",
      "[Parallel(n_jobs=4)]: Done   1 out of   1 | elapsed:    1.0s finished\n"
     ]
    },
    {
     "name": "stdout",
     "output_type": "stream",
     "text": [
      "[Pipeline] ...... (step 2 of 2) Processing baseline_log, total=   1.2s\n",
      "[Pipeline] ................ (step 1 of 2) Processing CT, total=   0.7s\n"
     ]
    },
    {
     "name": "stderr",
     "output_type": "stream",
     "text": [
      "[Parallel(n_jobs=4)]: Using backend LokyBackend with 4 concurrent workers.\n"
     ]
    },
    {
     "name": "stdout",
     "output_type": "stream",
     "text": [
      "[Pipeline] ...... (step 2 of 2) Processing baseline_log, total=   1.2s\n"
     ]
    },
    {
     "name": "stderr",
     "output_type": "stream",
     "text": [
      "[Parallel(n_jobs=4)]: Done   1 out of   1 | elapsed:    1.0s finished\n"
     ]
    }
   ],
   "source": [
    "# Creating a new class object for the purpose of tracking data\n",
    "grid_logistic_baseline = Model(\"grid_logistic_1\", grid_baseline_log)"
   ]
  },
  {
   "cell_type": "code",
   "execution_count": 81,
   "metadata": {},
   "outputs": [
    {
     "data": {
      "text/html": [
       "<div>\n",
       "<style scoped>\n",
       "    .dataframe tbody tr th:only-of-type {\n",
       "        vertical-align: middle;\n",
       "    }\n",
       "\n",
       "    .dataframe tbody tr th {\n",
       "        vertical-align: top;\n",
       "    }\n",
       "\n",
       "    .dataframe thead th {\n",
       "        text-align: right;\n",
       "    }\n",
       "</style>\n",
       "<table border=\"1\" class=\"dataframe\">\n",
       "  <thead>\n",
       "    <tr style=\"text-align: right;\">\n",
       "      <th></th>\n",
       "      <th>Name</th>\n",
       "      <th>train_score</th>\n",
       "      <th>train_log_loss</th>\n",
       "      <th>test_score</th>\n",
       "      <th>test_log_loss</th>\n",
       "    </tr>\n",
       "  </thead>\n",
       "  <tbody>\n",
       "    <tr>\n",
       "      <th>0</th>\n",
       "      <td>dummy</td>\n",
       "      <td>0.542334455667789</td>\n",
       "      <td>15.807207899345318</td>\n",
       "      <td>0.5453198653198653</td>\n",
       "      <td>15.704095502925046</td>\n",
       "    </tr>\n",
       "    <tr>\n",
       "      <th>0</th>\n",
       "      <td>logistic_1</td>\n",
       "      <td>0.7717620650953985</td>\n",
       "      <td>0.5773054993346605</td>\n",
       "      <td>0.7636363636363637</td>\n",
       "      <td>0.5987052306678315</td>\n",
       "    </tr>\n",
       "    <tr>\n",
       "      <th>0</th>\n",
       "      <td>grid_logistic_1</td>\n",
       "      <td>0.7671380471380471</td>\n",
       "      <td>0.5860681265161783</td>\n",
       "      <td>0.762962962962963</td>\n",
       "      <td>0.5960136139451608</td>\n",
       "    </tr>\n",
       "  </tbody>\n",
       "</table>\n",
       "</div>"
      ],
      "text/plain": [
       "              Name         train_score      train_log_loss  \\\n",
       "0            dummy   0.542334455667789  15.807207899345318   \n",
       "0       logistic_1  0.7717620650953985  0.5773054993346605   \n",
       "0  grid_logistic_1  0.7671380471380471  0.5860681265161783   \n",
       "\n",
       "           test_score       test_log_loss  \n",
       "0  0.5453198653198653  15.704095502925046  \n",
       "0  0.7636363636363637  0.5987052306678315  \n",
       "0   0.762962962962963  0.5960136139451608  "
      ]
     },
     "execution_count": 81,
     "metadata": {},
     "output_type": "execute_result"
    }
   ],
   "source": [
    "# Checking the updated dataframe to compare the first three models\n",
    "Model.model_df"
   ]
  },
  {
   "cell_type": "markdown",
   "metadata": {},
   "source": [
    "So, somewhat discouragingly, the grid-searched best parameters have led to a reduction in performance from the original vanilla logistic regression model. As a reminder, the only hyper-parameter that was altered was the solver, from 'lbfgs' to 'sag'. In one regard, that is positive, as we can definitively say that the 'sag' solver performs worse than the 'lbfgs' solver given these hyper-parameters, on the other hand, the model moved in the wrong direction."
   ]
  },
  {
   "cell_type": "markdown",
   "metadata": {},
   "source": [
    "## SMOTE - synthetic up-sampling"
   ]
  },
  {
   "cell_type": "markdown",
   "metadata": {},
   "source": [
    "One final tool that I employed is using SMOTE to synthetically increase the representation of minority classes within the data. This process utilizes nearly identical pipelines for preparing data for modeling, however the specific pipeline object comes from the imblearn library, not sklearn."
   ]
  },
  {
   "cell_type": "code",
   "execution_count": 83,
   "metadata": {},
   "outputs": [],
   "source": [
    "smote_pipeline = ImPipeline(steps=[\n",
    "    (\"CT\", CT),\n",
    "    (\"smote\", SMOTE(n_jobs= 4, sampling_strategy='auto')),  \n",
    "    # auto is both default and equivalent to 'not_majority'\n",
    "    \n",
    "    ('baseline_log', LogisticRegression(verbose=1, n_jobs=4)), \n",
    "    # using the same hyper-parameters as baseline/best model\n",
    "], verbose= True)"
   ]
  },
  {
   "cell_type": "code",
   "execution_count": 84,
   "metadata": {},
   "outputs": [
    {
     "name": "stdout",
     "output_type": "stream",
     "text": [
      "[Pipeline] ................ (step 1 of 3) Processing CT, total=   9.2s\n",
      "[Pipeline] ............. (step 2 of 3) Processing smote, total=  24.9s\n"
     ]
    },
    {
     "name": "stderr",
     "output_type": "stream",
     "text": [
      "[Parallel(n_jobs=4)]: Using backend LokyBackend with 4 concurrent workers.\n",
      "[Parallel(n_jobs=4)]: Done   1 out of   1 | elapsed:    4.5s finished\n"
     ]
    },
    {
     "name": "stdout",
     "output_type": "stream",
     "text": [
      "[Pipeline] ...... (step 3 of 3) Processing baseline_log, total=   4.7s\n"
     ]
    },
    {
     "data": {
      "text/plain": [
       "Pipeline(steps=[('CT',\n",
       "                 ColumnTransformer(n_jobs=4, remainder='passthrough',\n",
       "                                   transformers=[('subpipe_numerics',\n",
       "                                                  Pipeline(steps=[('mean_impute',\n",
       "                                                                   SimpleImputer(add_indicator=True)),\n",
       "                                                                  ('ss',\n",
       "                                                                   StandardScaler())]),\n",
       "                                                  <sklearn.compose._column_transformer.make_column_selector object at 0x7fa356100b50>),\n",
       "                                                 ('subpipe_cat',\n",
       "                                                  Pipeline(steps=[('cat_impute',\n",
       "                                                                   SimpleImputer(add_indicator=True,\n",
       "                                                                                 strategy='most_frequent')),\n",
       "                                                                  ('ohe',\n",
       "                                                                   OneHotEncoder(handle_unknown='ignore'))],\n",
       "                                                           verbose=True),\n",
       "                                                  <sklearn.compose._column_transformer.make_column_selector object at 0x7fa356100a00>)],\n",
       "                                   verbose=True)),\n",
       "                ('smote', SMOTE(n_jobs=4)),\n",
       "                ('baseline_log', LogisticRegression(n_jobs=4, verbose=1))],\n",
       "         verbose=True)"
      ]
     },
     "execution_count": 84,
     "metadata": {},
     "output_type": "execute_result"
    }
   ],
   "source": [
    "# Fitting the training data while synthetically up-sampling minority classes\n",
    "smote_pipeline.fit(X_train, y_train)"
   ]
  },
  {
   "cell_type": "markdown",
   "metadata": {},
   "source": [
    "After fitting the smote pipeline to my training data, I looked at the same visualization and report, and then subsequently added the new model to my class data frame as well."
   ]
  },
  {
   "cell_type": "code",
   "execution_count": 86,
   "metadata": {},
   "outputs": [
    {
     "data": {
      "image/png": "[encoded data removed]",
      "text/plain": [
       "<Figure size 576x576 with 2 Axes>"
      ]
     },
     "metadata": {
      "needs_background": "light"
     },
     "output_type": "display_data"
    }
   ],
   "source": [
    "# Plotting a confusion matrix; using the test data\n",
    "fig, ax = plt.subplots(figsize=(8,8))\n",
    "plot_confusion_matrix(smote_pipeline, X_test, y_test, ax=ax);"
   ]
  },
  {
   "cell_type": "code",
   "execution_count": 88,
   "metadata": {},
   "outputs": [
    {
     "name": "stdout",
     "output_type": "stream",
     "text": [
      "              precision    recall  f1-score   support\n",
      "\n",
      "           0       0.82      0.65      0.72      8098\n",
      "           1       0.22      0.71      0.34      1074\n",
      "           2       0.78      0.68      0.73      5678\n",
      "\n",
      "    accuracy                           0.67     14850\n",
      "   macro avg       0.61      0.68      0.60     14850\n",
      "weighted avg       0.76      0.67      0.70     14850\n",
      "\n"
     ]
    }
   ],
   "source": [
    "# Looking at the classification report on test data\n",
    "print(classification_report(y_test, smote_pipeline.predict(X_test), zero_division=0))"
   ]
  },
  {
   "cell_type": "code",
   "execution_count": 89,
   "metadata": {},
   "outputs": [
    {
     "name": "stdout",
     "output_type": "stream",
     "text": [
      "[Pipeline] ................ (step 1 of 3) Processing CT, total=   5.2s\n",
      "[Pipeline] ............. (step 2 of 3) Processing smote, total=  14.7s\n"
     ]
    },
    {
     "name": "stderr",
     "output_type": "stream",
     "text": [
      "[Parallel(n_jobs=4)]: Using backend LokyBackend with 4 concurrent workers.\n",
      "[Parallel(n_jobs=4)]: Done   1 out of   1 | elapsed:    2.9s finished\n"
     ]
    },
    {
     "name": "stdout",
     "output_type": "stream",
     "text": [
      "[Pipeline] ...... (step 3 of 3) Processing baseline_log, total=   3.0s\n",
      "[Pipeline] ................ (step 1 of 3) Processing CT, total=   5.3s\n",
      "[Pipeline] ............. (step 2 of 3) Processing smote, total=  15.3s\n"
     ]
    },
    {
     "name": "stderr",
     "output_type": "stream",
     "text": [
      "[Parallel(n_jobs=4)]: Using backend LokyBackend with 4 concurrent workers.\n",
      "[Parallel(n_jobs=4)]: Done   1 out of   1 | elapsed:    2.9s finished\n"
     ]
    },
    {
     "name": "stdout",
     "output_type": "stream",
     "text": [
      "[Pipeline] ...... (step 3 of 3) Processing baseline_log, total=   3.0s\n",
      "[Pipeline] ................ (step 1 of 3) Processing CT, total=   5.2s\n",
      "[Pipeline] ............. (step 2 of 3) Processing smote, total=  15.1s\n"
     ]
    },
    {
     "name": "stderr",
     "output_type": "stream",
     "text": [
      "[Parallel(n_jobs=4)]: Using backend LokyBackend with 4 concurrent workers.\n",
      "[Parallel(n_jobs=4)]: Done   1 out of   1 | elapsed:    3.0s finished\n"
     ]
    },
    {
     "name": "stdout",
     "output_type": "stream",
     "text": [
      "[Pipeline] ...... (step 3 of 3) Processing baseline_log, total=   3.1s\n",
      "[Pipeline] ................ (step 1 of 3) Processing CT, total=   5.2s\n",
      "[Pipeline] ............. (step 2 of 3) Processing smote, total=  16.3s\n"
     ]
    },
    {
     "name": "stderr",
     "output_type": "stream",
     "text": [
      "[Parallel(n_jobs=4)]: Using backend LokyBackend with 4 concurrent workers.\n",
      "[Parallel(n_jobs=4)]: Done   1 out of   1 | elapsed:    3.5s finished\n"
     ]
    },
    {
     "name": "stdout",
     "output_type": "stream",
     "text": [
      "[Pipeline] ...... (step 3 of 3) Processing baseline_log, total=   3.6s\n",
      "[Pipeline] ................ (step 1 of 3) Processing CT, total=   5.6s\n",
      "[Pipeline] ............. (step 2 of 3) Processing smote, total=  15.9s\n"
     ]
    },
    {
     "name": "stderr",
     "output_type": "stream",
     "text": [
      "[Parallel(n_jobs=4)]: Using backend LokyBackend with 4 concurrent workers.\n",
      "[Parallel(n_jobs=4)]: Done   1 out of   1 | elapsed:    3.0s finished\n"
     ]
    },
    {
     "name": "stdout",
     "output_type": "stream",
     "text": [
      "[Pipeline] ...... (step 3 of 3) Processing baseline_log, total=   3.1s\n",
      "[Pipeline] ................ (step 1 of 3) Processing CT, total=   0.7s\n",
      "[Pipeline] ............. (step 2 of 3) Processing smote, total=   1.7s\n"
     ]
    },
    {
     "name": "stderr",
     "output_type": "stream",
     "text": [
      "[Parallel(n_jobs=4)]: Using backend LokyBackend with 4 concurrent workers.\n",
      "[Parallel(n_jobs=4)]: Done   1 out of   1 | elapsed:    1.1s finished\n"
     ]
    },
    {
     "name": "stdout",
     "output_type": "stream",
     "text": [
      "[Pipeline] ...... (step 3 of 3) Processing baseline_log, total=   1.2s\n",
      "[Pipeline] ................ (step 1 of 3) Processing CT, total=   0.8s\n",
      "[Pipeline] ............. (step 2 of 3) Processing smote, total=   1.9s\n"
     ]
    },
    {
     "name": "stderr",
     "output_type": "stream",
     "text": [
      "[Parallel(n_jobs=4)]: Using backend LokyBackend with 4 concurrent workers.\n",
      "[Parallel(n_jobs=4)]: Done   1 out of   1 | elapsed:    1.2s finished\n"
     ]
    },
    {
     "name": "stdout",
     "output_type": "stream",
     "text": [
      "[Pipeline] ...... (step 3 of 3) Processing baseline_log, total=   1.3s\n",
      "[Pipeline] ................ (step 1 of 3) Processing CT, total=   0.8s\n",
      "[Pipeline] ............. (step 2 of 3) Processing smote, total=   1.8s\n"
     ]
    },
    {
     "name": "stderr",
     "output_type": "stream",
     "text": [
      "[Parallel(n_jobs=4)]: Using backend LokyBackend with 4 concurrent workers.\n",
      "[Parallel(n_jobs=4)]: Done   1 out of   1 | elapsed:    1.1s finished\n"
     ]
    },
    {
     "name": "stdout",
     "output_type": "stream",
     "text": [
      "[Pipeline] ...... (step 3 of 3) Processing baseline_log, total=   1.2s\n",
      "[Pipeline] ................ (step 1 of 3) Processing CT, total=   0.7s\n",
      "[Pipeline] ............. (step 2 of 3) Processing smote, total=   1.7s\n"
     ]
    },
    {
     "name": "stderr",
     "output_type": "stream",
     "text": [
      "[Parallel(n_jobs=4)]: Using backend LokyBackend with 4 concurrent workers.\n",
      "[Parallel(n_jobs=4)]: Done   1 out of   1 | elapsed:    1.1s finished\n"
     ]
    },
    {
     "name": "stdout",
     "output_type": "stream",
     "text": [
      "[Pipeline] ...... (step 3 of 3) Processing baseline_log, total=   1.3s\n",
      "[Pipeline] ................ (step 1 of 3) Processing CT, total=   0.8s\n",
      "[Pipeline] ............. (step 2 of 3) Processing smote, total=   1.7s\n"
     ]
    },
    {
     "name": "stderr",
     "output_type": "stream",
     "text": [
      "[Parallel(n_jobs=4)]: Using backend LokyBackend with 4 concurrent workers.\n"
     ]
    },
    {
     "name": "stdout",
     "output_type": "stream",
     "text": [
      "[Pipeline] ...... (step 3 of 3) Processing baseline_log, total=   1.3s\n"
     ]
    },
    {
     "name": "stderr",
     "output_type": "stream",
     "text": [
      "[Parallel(n_jobs=4)]: Done   1 out of   1 | elapsed:    1.2s finished\n"
     ]
    }
   ],
   "source": [
    "# Creating a new class object for the purpose of tracking data\n",
    "smote_baseline = Model(\"smote_1\", smote_pipeline)"
   ]
  },
  {
   "cell_type": "code",
   "execution_count": 90,
   "metadata": {},
   "outputs": [
    {
     "data": {
      "text/html": [
       "<div>\n",
       "<style scoped>\n",
       "    .dataframe tbody tr th:only-of-type {\n",
       "        vertical-align: middle;\n",
       "    }\n",
       "\n",
       "    .dataframe tbody tr th {\n",
       "        vertical-align: top;\n",
       "    }\n",
       "\n",
       "    .dataframe thead th {\n",
       "        text-align: right;\n",
       "    }\n",
       "</style>\n",
       "<table border=\"1\" class=\"dataframe\">\n",
       "  <thead>\n",
       "    <tr style=\"text-align: right;\">\n",
       "      <th></th>\n",
       "      <th>Name</th>\n",
       "      <th>train_score</th>\n",
       "      <th>train_log_loss</th>\n",
       "      <th>test_score</th>\n",
       "      <th>test_log_loss</th>\n",
       "    </tr>\n",
       "  </thead>\n",
       "  <tbody>\n",
       "    <tr>\n",
       "      <th>0</th>\n",
       "      <td>dummy</td>\n",
       "      <td>0.542334455667789</td>\n",
       "      <td>15.807207899345318</td>\n",
       "      <td>0.5453198653198653</td>\n",
       "      <td>15.704095502925046</td>\n",
       "    </tr>\n",
       "    <tr>\n",
       "      <th>0</th>\n",
       "      <td>logistic_1</td>\n",
       "      <td>0.7717620650953985</td>\n",
       "      <td>0.5773054993346605</td>\n",
       "      <td>0.7636363636363637</td>\n",
       "      <td>0.5987052306678315</td>\n",
       "    </tr>\n",
       "    <tr>\n",
       "      <th>0</th>\n",
       "      <td>grid_logistic_1</td>\n",
       "      <td>0.7671380471380471</td>\n",
       "      <td>0.5860681265161783</td>\n",
       "      <td>0.762962962962963</td>\n",
       "      <td>0.5960136139451608</td>\n",
       "    </tr>\n",
       "    <tr>\n",
       "      <th>0</th>\n",
       "      <td>smote_1</td>\n",
       "      <td>0.6814814814814815</td>\n",
       "      <td>0.7214257060683422</td>\n",
       "      <td>0.6671380471380471</td>\n",
       "      <td>0.7353518743976217</td>\n",
       "    </tr>\n",
       "  </tbody>\n",
       "</table>\n",
       "</div>"
      ],
      "text/plain": [
       "              Name         train_score      train_log_loss  \\\n",
       "0            dummy   0.542334455667789  15.807207899345318   \n",
       "0       logistic_1  0.7717620650953985  0.5773054993346605   \n",
       "0  grid_logistic_1  0.7671380471380471  0.5860681265161783   \n",
       "0          smote_1  0.6814814814814815  0.7214257060683422   \n",
       "\n",
       "           test_score       test_log_loss  \n",
       "0  0.5453198653198653  15.704095502925046  \n",
       "0  0.7636363636363637  0.5987052306678315  \n",
       "0   0.762962962962963  0.5960136139451608  \n",
       "0  0.6671380471380471  0.7353518743976217  "
      ]
     },
     "execution_count": 90,
     "metadata": {},
     "output_type": "execute_result"
    }
   ],
   "source": [
    "# Checking the updated dataframe to compare the first two models\n",
    "Model.model_df"
   ]
  },
  {
   "cell_type": "markdown",
   "metadata": {},
   "source": [
    "This was a somewhat startling iteration of the model. As you can see, the test score got materially worse using the SMOTE synthetic up-sampling of minority data. Log loss also got worse. "
   ]
  },
  {
   "cell_type": "markdown",
   "metadata": {},
   "source": [
    "## Preliminary comparison of the first models' performance"
   ]
  },
  {
   "cell_type": "code",
   "execution_count": 118,
   "metadata": {},
   "outputs": [
    {
     "data": {
      "image/png": "[encoded data removed]",
      "text/plain": [
       "<Figure size 504x504 with 1 Axes>"
      ]
     },
     "metadata": {
      "needs_background": "light"
     },
     "output_type": "display_data"
    }
   ],
   "source": [
    "# Plotting the scores of the first four models on test data\n",
    "\n",
    "visual = Model.model_df\n",
    "scores = visual['test_score'].astype(float)\n",
    "\n",
    "fig, ax = plt.subplots(figsize=(7,7))\n",
    "colors = ['red', 'green', 'blue', 'orange']\n",
    "ax.bar(x=range(4), height=scores, color=colors)\n",
    "ax.set_xticks(range(len(visual['Name'])))\n",
    "ax.set_xticklabels(visual[\"Name\"])\n",
    "ax.set_title(\"Scores of the First Four Models\")\n",
    "ax.set_ylabel(\"Model Test Scores\");"
   ]
  },
  {
   "cell_type": "code",
   "execution_count": 114,
   "metadata": {},
   "outputs": [
    {
     "data": {
      "image/png": "[encoded data removed]",
      "text/plain": [
       "<Figure size 1152x432 with 6 Axes>"
      ]
     },
     "metadata": {
      "needs_background": "light"
     },
     "output_type": "display_data"
    }
   ],
   "source": [
    "# Plotting the confusion matrices of the dummy, baseline/best, and smote models\n",
    "\n",
    "fig, ax = plt.subplots(ncols = 3, figsize=(16,6))\n",
    "\n",
    "plot_confusion_matrix(dummy_model, X_test, y_test, ax=ax[0])\n",
    "ax[0].set_title(\"Dummy Model\")\n",
    "plot_confusion_matrix(baseline_logistic, X_test, y_test, ax=ax[1], cmap='Blues')\n",
    "ax[1].set_title(\"Baseline Logistic Model\")\n",
    "plot_confusion_matrix(smote_pipeline, X_test, y_test, ax=ax[2], cmap=\"YlOrBr\")\n",
    "ax[2].set_title(\"Smote Model\");"
   ]
  },
  {
   "cell_type": "markdown",
   "metadata": {},
   "source": [
    "Looking at the colormaps, it is clear to see that by synthetically up-sampling the minority classes, that class 1, \"functional-needs-repair\" ended up being predicted at a too-high frequency. That being said, there is still close agreement between the baseline model and the smote model on predicting class 2 - \"non-functional\"."
   ]
  },
  {
   "cell_type": "markdown",
   "metadata": {},
   "source": [
    "This process was repeated many times, with the continued manipulation of hyper-parameters in order to improve upon model performance. I have omitted many iterations for the purpose of keeping this notebook as concise as possible, however the above processes adequately describe how each iteration was created and modified."
   ]
  },
  {
   "cell_type": "markdown",
   "metadata": {},
   "source": [
    "# Conclusion"
   ]
  },
  {
   "cell_type": "code",
   "execution_count": null,
   "metadata": {},
   "outputs": [],
   "source": []
  }
 ],
 "metadata": {
  "kernelspec": {
   "display_name": "Python (learn-env)",
   "language": "python",
   "name": "learn-env"
  },
  "language_info": {
   "codemirror_mode": {
    "name": "ipython",
    "version": 3
   },
   "file_extension": ".py",
   "mimetype": "text/x-python",
   "name": "python",
   "nbconvert_exporter": "python",
   "pygments_lexer": "ipython3",
   "version": "3.8.5"
  }
 },
 "nbformat": 4,
 "nbformat_minor": 4
}
